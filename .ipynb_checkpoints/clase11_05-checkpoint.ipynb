{
 "cells": [
  {
   "cell_type": "markdown",
   "metadata": {},
   "source": [
    "# Clase 11-05-2021 \n",
    "\n",
    "Práctica de Jupyter notebook y Python "
   ]
  },
  {
   "cell_type": "markdown",
   "metadata": {},
   "source": [
    "## Notas \n",
    "\n",
    "\n",
    "### Jupyter Notebook \n",
    "\n",
    "Para un mejor manejo de gráficos de matplotlib (cuando no se tenga que generar un informe) agregar la línea de código \n",
    "\n",
    "`matpotlib qt5` \n",
    "\n",
    " O si se quiere, agregar `matplotlib widget` \n",
    " \n",
    " ### Operaciones con puerto UART \n",
    " \n",
    " Todos los ASICs, generalmente, tienen embebido un micro que hace el control del entradamado y la interacción con los bloques. La comunicación UART con estos micros permite comprobar el buen funcionamiento del sistema diseñado. \n",
    " \n",
    " La **trama** que utilizaremos está formada por: \n",
    " \n",
    " * Cabecera: \n",
    "     * Inicio de trama \n",
    "     * Trama corta o larga L/S \n",
    "     * Si es larga se usa la parte baja y alta de L.Size \n",
    "     * Device indentifica el dispositivo a configurar \n",
    " * Data \n",
    " \n",
    " * Fin de trama \n",
    " \n",
    " \n",
    " "
   ]
  }
 ],
 "metadata": {
  "kernelspec": {
   "display_name": "Python 3",
   "language": "python",
   "name": "python3"
  },
  "language_info": {
   "codemirror_mode": {
    "name": "ipython",
    "version": 3
   },
   "file_extension": ".py",
   "mimetype": "text/x-python",
   "name": "python",
   "nbconvert_exporter": "python",
   "pygments_lexer": "ipython3",
   "version": "3.8.5"
  }
 },
 "nbformat": 4,
 "nbformat_minor": 4
}
