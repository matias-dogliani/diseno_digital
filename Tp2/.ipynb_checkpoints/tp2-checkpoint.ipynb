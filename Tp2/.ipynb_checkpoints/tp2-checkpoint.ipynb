{
 "cells": [
  {
   "cell_type": "markdown",
   "metadata": {},
   "source": [
    "# Trabajo práctico Nº 2 \n",
    "\n",
    "Manejo de puerto serie - Notebook disponible en [GitHub](https://github.com/matias-dogliani/diseno_digital/blob/master/tp2/tp2.ipynb)"
   ]
  },
  {
   "cell_type": "markdown",
   "metadata": {},
   "source": [
    "* Comenzamos primero cargando la función de calculadora del práctico anterior "
   ]
  },
  {
   "cell_type": "code",
   "execution_count": 1,
   "metadata": {},
   "outputs": [],
   "source": [
    "import numpy as np\n",
    "\n",
    "def calculadora(): \n",
    "     while(1):\n",
    "        print(' 1 - Calcular \\n', \n",
    "            '2 - Terminar ')\n",
    "        cc = int(input(' Elija una opcion: '))\n",
    "        if (cc == 1): \n",
    "            menu()\n",
    "        else: \n",
    "            return \n",
    "\n",
    "def menu():                                                                 \n",
    "                                                                                \n",
    "    print('1 - Sumar',                                                          \n",
    "          '2 - Restar',                                                         \n",
    "          '3 - Multiplicar',                                                    \n",
    "          '4 - Dividir',                                                        \n",
    "          '5 - Iterativo',                                                      \n",
    "          '6  - Producto punto', sep = '\\n')                                          \n",
    "                                                                                \n",
    "    op = int(input('Elija una ocpion: '))                                       \n",
    "                                                                                \n",
    "                                                                                \n",
    "    if (op == 1):                                                               \n",
    "         suma()                                                                 \n",
    "                                                                                \n",
    "    elif (op == 2):                                                             \n",
    "         resta()                                                                \n",
    "                                                                                \n",
    "    elif (op == 3):                                                             \n",
    "          mult()                                                                \n",
    "                                                                                \n",
    "    elif (op == 4):                                                             \n",
    "        dividir()                                                               \n",
    "                                                                                \n",
    "    elif (op == 5):                                                             \n",
    "        iterativo()                                                             \n",
    "                                                                                \n",
    "    elif (op == 6):                                                             \n",
    "         producto_p()                                                              \n",
    "                                                                                \n",
    "def suma():                                                                     \n",
    "                                                                                \n",
    "    a,b = input('Ingrese dos numeros para sumar:  ').split()                    \n",
    "    print('Resultado  = ', int(a) + int(b)  )                                   \n",
    "                                                                                \n",
    "def resta():                                                                    \n",
    "                                                                                \n",
    "    a,b = input('Ingrese dos numeros para restar: ').split()                    \n",
    "    print('Resultado  = ', int(a) - int(b)  )                                   \n",
    "                                                                                \n",
    "def mult():                                                                     \n",
    "                                                                                \n",
    "    a,b = input('Ingrese dos numeros para multiplicar: ').split()               \n",
    "    print('Resultado  = ', int(a) * int(b)  )                                   \n",
    "                                                                                \n",
    "                                                                                \n",
    "def dividir():                                                                 \n",
    "                                                                                \n",
    "    a,b = input('Ingrese dos numeros para dividir: ').split()                   \n",
    "    print('Resultado  = {:.2f}'.format(int(a) / int(b)))      \n",
    "def iterativo():                                                                \n",
    "                                                                                \n",
    "    step = int(input('Ingrese el paso: '))                                      \n",
    "    i = int(input('Ingrese las iteraciones: '))                                 \n",
    "                                                                                \n",
    "    a=0                                                                         \n",
    "    b=0                                                                         \n",
    "    c=1                                                                         \n",
    "                                                                                \n",
    "    while(i>0):                                                                 \n",
    "        a += step                                                               \n",
    "        b -= step                                                               \n",
    "        c *= step                                                               \n",
    "        i-=1                                                                    \n",
    "    print('a = {}  b = {}  c = {} \\n '.format(a,b,c))     \n",
    "    \n",
    "                                                            \n",
    "                                                                                \n",
    "def producto_p(): \n",
    "    op =1\n",
    "    while(op):\n",
    "        F1 = int(input(\"Numero de filas de matriz 1 : \"))                           \n",
    "        C1 = int(input(\"Numero de columnas matriz 1 : \"))                                                                                                           \n",
    "        print(\"Ingresar matriz por filas, separado por espacio \")                       \n",
    "        elementos = list(map(int, input().split()))                                     \n",
    "        matriz1 = np.array(elementos).reshape(F1, C1)                               \n",
    "                                                                                \n",
    "        F2 = int(input(\"Numero de filas de matriz 2 : \"))                               \n",
    "        C2 = int(input(\"Numero de columnas matriz 2:  \")) \n",
    "        print(\"Ingresar matriz por filas, separado por espacio \")                       \n",
    "        elementos = list(map(int, input().split()))                                     \n",
    "        matriz2= np.array(elementos).reshape(F2, C2)                                \n",
    "                                                    \n",
    "                                                                                \n",
    "        if (matriz1.shape != matriz2.shape):                                              \n",
    "            print(\"No se puede realizar la operacion\",                              \n",
    "              \"las matrices deben tener el mismo tamaño\")\n",
    "        else: \n",
    "            break                                                                            \n",
    "                             \n",
    "    res = matriz1*matriz2 \n",
    "    guardar_archivo(matriz1,matriz2,res)\n",
    "    print(\"Resultado = \", res)                                                                                       \n",
    "\n",
    "def guardar_archivo(a,b,c):                                                          \n",
    "                                       \n",
    "    fd = open(\"./matrix.log\", \"w\")                                              \n",
    "    fd.write(\"Matriz a \\n\")    \n",
    "    for fila in a:                                                            \n",
    "         np.savetxt(fd,fila)                                                     \n",
    "    \n",
    "    fd.write(\"Matriz b \\n\")    \n",
    "    for fila in a:                                                            \n",
    "         np.savetxt(fd,fila)\n",
    "    \n",
    "    fd.write(\"Matriz resultado \\n\")    \n",
    "    for fila in a:                                                            \n",
    "         np.savetxt(fd,fila)\n",
    "    \n",
    "    fd.close()   "
   ]
  },
  {
   "cell_type": "markdown",
   "metadata": {},
   "source": [
    "Definimos la funcion graficar() "
   ]
  },
  {
   "cell_type": "code",
   "execution_count": 2,
   "metadata": {},
   "outputs": [],
   "source": [
    "import matplotlib.pyplot as plt \n",
    "def graficar( samples   = np.random.normal(0, 0.1, 30000)): \n",
    "    plt.plot(samples)"
   ]
  },
  {
   "cell_type": "markdown",
   "metadata": {},
   "source": [
    "## Ejercicio a) \n",
    "\n",
    "Enviar por puerto un comando para que el recepetor ejecute la correspondiente acción \n",
    "\n",
    "1) Abrimos el puerto de tal forma que nos permita emular emisor y receptor"
   ]
  },
  {
   "cell_type": "code",
   "execution_count": 3,
   "metadata": {},
   "outputs": [],
   "source": [
    "import serial                                                                   \n",
    "                                                                                \n",
    "ser = serial.serial_for_url('loop://', timeout=1)                               \n",
    "                                                                                \n",
    "ser.timeout=None                                                                \n",
    "                                                                                \n",
    "ser.flushInput()                                                                \n",
    "ser.flushOutput()                                                               \n",
    "                  "
   ]
  },
  {
   "cell_type": "markdown",
   "metadata": {},
   "source": [
    "2) Configuramos el emisor con los comandos correspondientes "
   ]
  },
  {
   "cell_type": "code",
   "execution_count": 4,
   "metadata": {},
   "outputs": [
    {
     "name": "stdout",
     "output_type": "stream",
     "text": [
      "'Calculadora': Ejecuta calculadora\n",
      "'Graficar': Grafica un vector aleatorio\n",
      "'Salir': Finalizar programa\n",
      "Ingrese un comando: graficar\n"
     ]
    },
    {
     "data": {
      "text/plain": [
       "8"
      ]
     },
     "execution_count": 4,
     "metadata": {},
     "output_type": "execute_result"
    }
   ],
   "source": [
    "                                                                             \n",
    "comandos = ['CALCULADORA','GRAFICAR','SALIR']                                   \n",
    "data = ''                                                                       \n",
    "                                                                                \n",
    "while(1):                                                                       \n",
    "                                                                                \n",
    "    print(\"'Calculadora': Ejecuta calculadora\",                                 \n",
    "        \"'Graficar': Grafica un vector aleatorio\",                              \n",
    "        \"'Salir': Finalizar programa\",sep = '\\n')                               \n",
    "    data = input(\"Ingrese un comando: \")                                        \n",
    "                                                                                \n",
    "    if data.upper() in comandos:                                                 \n",
    "        break                                                                   \n",
    "    else:                                                                       \n",
    "        print(\"No existe el comando\", data,\"\\n\")                                \n",
    "                                                               \n",
    "                                                                        \n",
    "ser.write(data.encode())       "
   ]
  },
  {
   "cell_type": "markdown",
   "metadata": {},
   "source": [
    "3) Configuramos el emisor, para que según el comando enviado ejecute la acción correspondiente "
   ]
  },
  {
   "cell_type": "code",
   "execution_count": 5,
   "metadata": {},
   "outputs": [
    {
     "name": "stdout",
     "output_type": "stream",
     "text": [
      "Comando recibido >> graficar\n"
     ]
    },
    {
     "data": {
      "image/png": "[encoded data removed]",
      "text/plain": [
       "<Figure size 432x288 with 1 Axes>"
      ]
     },
     "metadata": {
      "needs_background": "light"
     },
     "output_type": "display_data"
    }
   ],
   "source": [
    "out = ''                                                                        \n",
    "while ser.inWaiting() > 0:                                                      \n",
    "    read_data = ser.read(1)                                                     \n",
    "    out += read_data.decode()                                                   \n",
    "                                                                                \n",
    "if out != '':                                                                   \n",
    "    print(\"Comando recibido >> \" + out) \n",
    "    \n",
    "if out.upper() == 'CALCULADORA' : \n",
    "    calculadora()\n",
    "elif out.upper() == \"GRAFICAR\": \n",
    "    graficar()\n",
    "elif out.upper() == \"SALIR\": \n",
    "    if ser.isOpen():                                                            \n",
    "        print(\"Programa terminado\")                                             \n",
    "        ser.close()                                                             \n",
    "    exit()                                                                      \n",
    "   "
   ]
  },
  {
   "cell_type": "markdown",
   "metadata": {},
   "source": [
    "## Ejercicio B \n",
    "\n",
    "Comunicación con trama definida: \n",
    "* Cabecera \n",
    "    * Size \n",
    "    * Datos \n",
    "    * Device \n",
    "* Fin de trama\n"
   ]
  },
  {
   "cell_type": "markdown",
   "metadata": {},
   "source": [
    "1) Codificamos la trama **corta** "
   ]
  },
  {
   "cell_type": "code",
   "execution_count": 6,
   "metadata": {},
   "outputs": [],
   "source": [
    "def Short_TramaEnconder(data):                                                  \n",
    "                                                                                \n",
    "    trama = []                                                                  \n",
    "                                                                                \n",
    "    if len(data) >16:                                                           \n",
    "        return -1                                                               \n",
    "                                                                                \n",
    "    cabecera =  bytes([160 + len(data)])                                        \n",
    "    fin_trama = bytes([64 + len(data)])                                         \n",
    "    trama.append(cabecera)                                                      \n",
    "                                                                                \n",
    "    #LSize_low y LSize_high                                                     \n",
    "    trama.append(bytes([0]))                                                    \n",
    "    trama.append(bytes([0]))                                                    \n",
    "                                                                                \n",
    "    trama.append(bytes([0]))                                                    \n",
    "                                                                                \n",
    "    for byte in data:                                                           \n",
    "        trama.append(byte)                                                      \n",
    "                                                                                \n",
    "    trama.append(fin_trama)                                                     \n",
    "    return trama                     "
   ]
  },
  {
   "cell_type": "markdown",
   "metadata": {},
   "source": [
    "2) Codificamos la trama **larga** "
   ]
  },
  {
   "cell_type": "code",
   "execution_count": 7,
   "metadata": {},
   "outputs": [],
   "source": [
    "                                                                                \n",
    "def Large_TramaEnconder(data,len_data = 0 ):                                        \n",
    "                                                                                \n",
    "    trama = []                                                                  \n",
    "    if len_data == 0:                                                           \n",
    "        len_data = len(data)  # Esto es para poder mandar graficar por esta trama\n",
    "                                                                                \n",
    "    if len(data) > 2**(16):                                                     \n",
    "        return -1                                                               \n",
    "                                                                                \n",
    "    cabecera =  bytes([176])                                                    \n",
    "    fin_trama = bytes([64])                                                         \n",
    "    trama.append(cabecera)                                                      \n",
    "                                                                                \n",
    "    #LSize_low y LSize_high             \n",
    "    #LSize_high = len_data >> 8 \n",
    "    #LSize_low = len_data & 0000000011111111\n",
    "    trama.append(bytes([len_data // 255 ]))                                     \n",
    "    trama.append(bytes([len_data - (len_data // 255) * 255 ]))                  \n",
    "                                                                                \n",
    "    trama.append(bytes([0]))                                                        \n",
    "                                                                                \n",
    "    for byte in data:                                                           \n",
    "        trama.append(byte)                                                      \n",
    "                                                                                \n",
    "    trama.append(fin_trama)                                                     \n",
    "    return trama                                                                \n",
    "                                "
   ]
  },
  {
   "cell_type": "markdown",
   "metadata": {},
   "source": [
    "3) Armamos la trama según corresponda"
   ]
  },
  {
   "cell_type": "code",
   "execution_count": 8,
   "metadata": {},
   "outputs": [
    {
     "name": "stdout",
     "output_type": "stream",
     "text": [
      "'Calculadora': Ejecuta calculadora\n",
      "'Graficar': Grafica un vector aleatorio\n",
      "'Salir': Finalizar programa\n",
      "Ingrese un comando: calculadora\n"
     ]
    }
   ],
   "source": [
    "import random \n",
    "import serial \n",
    "comandos = ['CALCULADORA','GRAFICAR','SALIR']                                   \n",
    "data = ''                                                                       \n",
    "                                                                                \n",
    "while(1):                                                                       \n",
    "                                                                                \n",
    "    print(\"'Calculadora': Ejecuta calculadora\",                                 \n",
    "        \"'Graficar': Grafica un vector aleatorio\",                              \n",
    "        \"'Salir': Finalizar programa\",sep = '\\n')                               \n",
    "    data = input(\"Ingrese un comando: \")                                        \n",
    "                                                                                \n",
    "    if data.upper() in comandos:                                                 \n",
    "        break                                                                   \n",
    "    else:                                                                       \n",
    "        print(\"No existe el comando\", data,\"\\n\")                 \n",
    "\n",
    "datos = []                                                                      \n",
    "for char in data:                                                               \n",
    "    datos.append(char.encode())                                                 \n",
    "                                                                                \n",
    "                                                                                \n",
    "if data.upper() == 'GRAFICAR':                                                  \n",
    "    for i in range(10):                                                         \n",
    "        dato_graficar = random.randint(0,255) #Vector a graficar                \n",
    "        byte = dato_graficar.to_bytes(1, byteorder='big', signed=False)         \n",
    "        datos.append(byte)                                                      \n",
    "    trama = Large_TramaEnconder(datos, len(data))                               \n",
    "if data.upper() == 'CALCULADORA':                                               \n",
    "    trama = Short_TramaEnconder(datos)                                          \n",
    "if data.upper() == 'SALIR':                                                     \n",
    "    trama = Short_TramaEnconder(datos)  "
   ]
  },
  {
   "cell_type": "markdown",
   "metadata": {},
   "source": [
    "4) Implementamos el **emisor** "
   ]
  },
  {
   "cell_type": "code",
   "execution_count": 9,
   "metadata": {},
   "outputs": [
    {
     "name": "stdout",
     "output_type": "stream",
     "text": [
      "Enviado  b'\\xab'\n",
      "Enviado  b'\\x00'\n",
      "Enviado  b'\\x00'\n",
      "Enviado  b'\\x00'\n",
      "Enviado  b'c'\n",
      "Enviado  b'a'\n",
      "Enviado  b'l'\n",
      "Enviado  b'c'\n",
      "Enviado  b'u'\n",
      "Enviado  b'l'\n",
      "Enviado  b'a'\n",
      "Enviado  b'd'\n",
      "Enviado  b'o'\n",
      "Enviado  b'r'\n",
      "Enviado  b'a'\n",
      "Enviado  b'K'\n"
     ]
    }
   ],
   "source": [
    "import serial as ser \n",
    "ser = serial.serial_for_url('loop://', timeout=1)                               \n",
    "                                                                           \n",
    "ser.timeout=None                                                                \n",
    "ser.flushInput()                                                                \n",
    "ser.flushOutput() \n",
    "\n",
    "if ser.isOpen():                                                                \n",
    "    for byte in trama:                                                          \n",
    "       print(\"Enviado \",  byte)                                                 \n",
    "       ser.write(byte)                                                          \n",
    "                                           \n",
    "                             "
   ]
  },
  {
   "cell_type": "markdown",
   "metadata": {},
   "source": [
    "5) Configuramos el **receptor** \n",
    "    \n",
    "    Se puede añadir una validación con el byte de final de trama que disparece cierto evento. En el caso de una trama larga se podría comprobar con : \n",
    "   \n",
    "   `if fin_trama  != 64:                                                           \n",
    "        print(\"ERROR: Trama corrupta\")`\n"
   ]
  },
  {
   "cell_type": "code",
   "execution_count": 10,
   "metadata": {},
   "outputs": [
    {
     "name": "stdout",
     "output_type": "stream",
     "text": [
      "Esperando 16 datos\n",
      "Recibido  b'\\xab'\n",
      "Recibido  b'\\x00'\n",
      "Recibido  b'\\x00'\n",
      "Recibido  b'\\x00'\n",
      "Recibido  b'c'\n",
      "Recibido  b'a'\n",
      "Recibido  b'l'\n",
      "Recibido  b'c'\n",
      "Recibido  b'u'\n",
      "Recibido  b'l'\n",
      "Recibido  b'a'\n",
      "Recibido  b'd'\n",
      "Recibido  b'o'\n",
      "Recibido  b'r'\n",
      "Recibido  b'a'\n",
      "Recibido  b'K'\n"
     ]
    }
   ],
   "source": [
    "out = []                                                                        \n",
    "if ser.isOpen():                                                                \n",
    "    print(\"Esperando\", ser.inWaiting(), \"datos\")                                \n",
    "    while ser.inWaiting() > 0:                                                  \n",
    "         read_data = ser.read(1)                                                \n",
    "         print(\"Recibido \", read_data)                                          \n",
    "         out.append(read_data)                                                  \n",
    "fin_trama =  int.from_bytes(out[len(out)-1],byteorder='big',signed = False)     \n",
    "                                                                    \n",
    "                                 \n",
    "            "
   ]
  },
  {
   "cell_type": "markdown",
   "metadata": {},
   "source": [
    "6) En el lado del receptor, desarmamos la trama: \n",
    "    Ya que 'graficar' es un caso especial a la trama larga \n",
    "    hay que tener en cuenta algunos puntos tanto como para armar la trama como para desarmarla.Si no se enviase graficar y se enviara un dato largo, el dato sería la parte correspondiente al dato y no se separaría en **comando** y **datos** como se hace en este caso "
   ]
  },
  {
   "cell_type": "code",
   "execution_count": 11,
   "metadata": {},
   "outputs": [],
   "source": [
    "                                                                               \n",
    "cabecera = int.from_bytes(out[0], byteorder = 'big', signed = False)            \n",
    "                                                                                \n",
    "                                                                                \n",
    "if (cabecera & int(b'00010000')):           #Trama Larga                        \n",
    "    data_len = int.from_bytes(out[1], byteorder = 'big', signed = False)        \n",
    "    data_len = data_len * 255 +  int.from_bytes(out[2],         #Largo del comando para el caso de \n",
    "                byteorder = 'big', signed = False)              # 'graficar'       \n",
    "                                                                                \n",
    "    if( data_len < len(out[4:-1]) ) :   #El caso de graficar                    \n",
    "         comando = [char.decode() for char in out[4:4+data_len] ]               \n",
    "         comando = \"\".join(comando)                                             \n",
    "    else:                                                                       \n",
    "        dato = out[4:-1]                                                        \n",
    "                                                                                \n",
    "else:                               #Trama corta                                \n",
    "    data_len  = cabecera - 160                                                  \n",
    "    comando = [char.decode() for char in out[4:4+data_len] ]                    \n",
    "    comando = \"\".join(comando)                                                  \n",
    "                                  \n",
    "                                "
   ]
  },
  {
   "cell_type": "markdown",
   "metadata": {},
   "source": [
    "7) Por último, lanzamos la función correspondiente según el comando recibido"
   ]
  },
  {
   "cell_type": "code",
   "execution_count": 12,
   "metadata": {},
   "outputs": [
    {
     "name": "stdout",
     "output_type": "stream",
     "text": [
      " 1 - Calcular \n",
      " 2 - Terminar \n",
      " Elija una opcion: 2\n"
     ]
    }
   ],
   "source": [
    "                                                                             \n",
    "if comando.upper() == 'CALCULADORA' :                                           \n",
    "    calculadora()                                                               \n",
    "elif comando.upper() == \"GRAFICAR\":                                             \n",
    "    puntos = [int.from_bytes(byte, byteorder = 'big',                           \n",
    "        signed = False) for byte in out[4+data_len:-1] ]                        \n",
    "    graficar(puntos)                                                            \n",
    "elif comando.upper() == \"SALIR\":                                                \n",
    "    if ser.isOpen():                                                            \n",
    "        print(\"Programa terminado\")                                             \n",
    "        ser.close()                                                             \n",
    "    exit()      "
   ]
  }
 ],
 "metadata": {
  "kernelspec": {
   "display_name": "Python 3",
   "language": "python",
   "name": "python3"
  },
  "language_info": {
   "codemirror_mode": {
    "name": "ipython",
    "version": 3
   },
   "file_extension": ".py",
   "mimetype": "text/x-python",
   "name": "python",
   "nbconvert_exporter": "python",
   "pygments_lexer": "ipython3",
   "version": "3.8.5"
  }
 },
 "nbformat": 4,
 "nbformat_minor": 4
}
