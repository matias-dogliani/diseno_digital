{
 "cells": [
  {
   "cell_type": "markdown",
   "metadata": {},
   "source": [
    "# Comparación de vectores - Vector matching"
   ]
  },
  {
   "cell_type": "code",
   "execution_count": 6,
   "metadata": {},
   "outputs": [],
   "source": [
    "def CompareTbBin(TbBinFileName,BinPyFileName): \n",
    "   \n",
    "    error = 0\n",
    "    PatternValue = []\n",
    "    CorruptedValue = [] \n",
    "    \n",
    "    TbBin = open(TbBinFileName,'r').readlines()\n",
    "    PyBin = open(BinPyFileName,'r').readlines()\n",
    "   \n",
    "    print(len(TbBin), len(PyBin))\n",
    "    for i,res in enumerate(PyBin): \n",
    "        if(res != TbBin[i]):   \n",
    "            error +=1 \n",
    "            PatternValue.append(res[:-1]) #Saco el \\n\n",
    "            CorruptedValue.append(TbBin[i])\n",
    "\n",
    "    errorRate = error/i if error else 0\n",
    "    \n",
    "    return errorRate,error,PatternValue,CorruptedValue \n"
   ]
  },
  {
   "cell_type": "code",
   "execution_count": 3,
   "metadata": {},
   "outputs": [],
   "source": [
    "def LogFileGen (error,errorRate,PatternValue,CorruptedValue,FileName): \n",
    "    if (er): \n",
    "        logFile= open(FileName,'w')\n",
    "        print(error,errorRate,sep=\" \",file=logFile)\n",
    "        print(\"Index\",\"Python\", \"TestBench\",sep = \",\",file=logFile)\n",
    "        for i,Value in enumerate(PatternValue):\n",
    "            print(i,Value, CorruptedValue[i], sep=\",\",file=logFile)  \n",
    "        logFile.close()"
   ]
  },
  {
   "cell_type": "markdown",
   "metadata": {},
   "source": [
    "## Comparación de PRBS"
   ]
  },
  {
   "cell_type": "code",
   "execution_count": 37,
   "metadata": {},
   "outputs": [
    {
     "name": "stdout",
     "output_type": "stream",
     "text": [
      "Error en PRBSeqI:  0\n"
     ]
    }
   ],
   "source": [
    "[er,erR,PValue,CValue] = CompareTbBin(\"./TbVec/tb_PRBSeqI.o\",\n",
    "                                      \"./PatternVec/PRBSeqI.in\") \n",
    "print(\"Error en PRBSeqI: \", er)\n",
    "if (er): \n",
    "    LogFileGen(er,erR,PValue,CValue,\"./logs/Error_PRBSeqI.csv\")"
   ]
  },
  {
   "cell_type": "code",
   "execution_count": 36,
   "metadata": {},
   "outputs": [
    {
     "name": "stdout",
     "output_type": "stream",
     "text": [
      "Error en PRBSeqQ:  0\n"
     ]
    }
   ],
   "source": [
    "[er,erR,PValue,CValue] = CompareTbBin(\"./TbVec/tb_PRBSeqQ2.o\",\n",
    "                                      \"./PatternVec/PRBSeqQ.in\") \n",
    "print(\"Error en PRBSeqQ: \", er)\n",
    "if (er): \n",
    "    LogFileGen(er,erR,PValue,CValue,\"./logs/Error_PRBSeqQ.csv\")"
   ]
  },
  {
   "cell_type": "markdown",
   "metadata": {},
   "source": [
    "## Comparacióm símbolos "
   ]
  },
  {
   "cell_type": "code",
   "execution_count": 38,
   "metadata": {},
   "outputs": [
    {
     "name": "stdout",
     "output_type": "stream",
     "text": [
      "Error en Mapper I:  0\n"
     ]
    }
   ],
   "source": [
    "[er,erR,PValue,CValue] = CompareTbBin(\"./TbVec/tb_mapperI.o\",\n",
    "                                      \"./PatternVec/aKI.in\") \n",
    "print(\"Error en Mapper I: \", er)\n",
    "if (er): \n",
    "    LogFileGen(er,erR,PValue,CValue,\"./logs/Error_mapperI.csv\")"
   ]
  },
  {
   "cell_type": "code",
   "execution_count": 39,
   "metadata": {},
   "outputs": [
    {
     "name": "stdout",
     "output_type": "stream",
     "text": [
      "Error en Mapper Q:  0\n"
     ]
    }
   ],
   "source": [
    "[er,erR,PValue,CValue] = CompareTbBin(\"./TbVec/tb_mapperQ.o\",\n",
    "                                      \"./PatternVec/aKQ.in\") \n",
    "print(\"Error en Mapper Q: \", er)\n",
    "if (er): \n",
    "    LogFileGen(er,erR,PValue,CValue,\"./logs/Error_mapperQ.csv\")"
   ]
  },
  {
   "cell_type": "markdown",
   "metadata": {},
   "source": [
    "## Comparación de símbolos transmitidos "
   ]
  },
  {
   "cell_type": "code",
   "execution_count": 11,
   "metadata": {},
   "outputs": [
    {
     "name": "stdout",
     "output_type": "stream",
     "text": [
      "4000 4000\n",
      "Error en Mapper I:  0.5643910977744436\n"
     ]
    }
   ],
   "source": [
    "[er,erR,PValue,CValue] = CompareTbBin(\"./TbVec/tb_filterI.o\",\n",
    "                                      \"./PatternVec/txSymbIFp.in\") \n",
    "print(\"Error en Mapper I: \", er)\n",
    "if (er): \n",
    "    LogFileGen(er,erR,PValue,CValue,\"./logs/Error_txI.csv\")"
   ]
  },
  {
   "cell_type": "code",
   "execution_count": 13,
   "metadata": {},
   "outputs": [
    {
     "name": "stdout",
     "output_type": "stream",
     "text": [
      "4000 4000\n",
      "Error en Mapper I:  0.5646411602900725\n"
     ]
    }
   ],
   "source": [
    "[er,erR,PValue,CValue] = CompareTbBin(\"./TbVec/tb_filterQ.o\",\n",
    "                                      \"./PatternVec/txSymbQFp.in\") \n",
    "print(\"Error en Mapper I: \", er)\n",
    "if (er): \n",
    "    LogFileGen(er,erR,PValue,CValue,\"./logs/Error_txQ.csv\")"
   ]
  },
  {
   "cell_type": "code",
   "execution_count": null,
   "metadata": {},
   "outputs": [],
   "source": []
  }
 ],
 "metadata": {
  "kernelspec": {
   "display_name": "Python 3",
   "language": "python",
   "name": "python3"
  },
  "language_info": {
   "codemirror_mode": {
    "name": "ipython",
    "version": 3
   },
   "file_extension": ".py",
   "mimetype": "text/x-python",
   "name": "python",
   "nbconvert_exporter": "python",
   "pygments_lexer": "ipython3",
   "version": "3.8.10"
  }
 },
 "nbformat": 4,
 "nbformat_minor": 4
}
