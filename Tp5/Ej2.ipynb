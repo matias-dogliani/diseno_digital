{
 "cells": [
  {
   "cell_type": "markdown",
   "metadata": {},
   "source": [
    "# Trabajo práctico Nº 5 \n",
    "\n",
    "## Ejercicio 2 \n",
    "\n",
    "Se implementa el mismo sistema de comunicación simplificado que en el ejercicio anterior aunque de una forma más ligada a la implementación en **hardware**. Para así poder generar los archivos de vectores, probar en varios puntos la señal, etc. "
   ]
  },
  {
   "cell_type": "code",
   "execution_count": 1,
   "metadata": {},
   "outputs": [],
   "source": [
    "import numpy as np\n",
    "import matplotlib.pyplot as plt\n",
    "import tool.ff_model  as fm\n",
    "from tool._fixedInt import * \n",
    "from tool.DSPtools import *"
   ]
  },
  {
   "cell_type": "markdown",
   "metadata": {},
   "source": [
    "* Creamos una función para guardar los valores de los vectores generados para utilizarlos en vector matching"
   ]
  },
  {
   "cell_type": "code",
   "execution_count": 2,
   "metadata": {},
   "outputs": [],
   "source": [
    "def SaveBytesTbFile(FpValues,FileName,BITs=1):\n",
    "    TbFile  = open(FileName,'w')\n",
    "    if(not BITs):\n",
    "        for FpNum in FpValues:\n",
    "            TbBin =bin(FpNum.intvalue)[2:]      #\"0b\" no me interesa \n",
    "            TbBin = TbBin.zfill(FpNum.width)    #Aveces bin() devuelve menos bits\n",
    "            TbBin = str(TbBin)\n",
    "            TbFile.write(TbBin)\n",
    "            TbFile.write(\"\\n\")\n",
    "        TbFile.close()\n",
    "    else: \n",
    "        for i in range(len(FpValues)):\n",
    "            TbFile.write(str(FpValues[i]))\n",
    "            TbFile.write(\"\\n\")\n",
    "        TbFile.close() \n",
    "    "
   ]
  },
  {
   "cell_type": "markdown",
   "metadata": {},
   "source": [
    "Definimos los mismos parámetros que para el ejercicio anterior, agregando algunos extras, como el **orden de PSBR** a implementar emulando una LSFR "
   ]
  },
  {
   "cell_type": "code",
   "execution_count": 3,
   "metadata": {},
   "outputs": [],
   "source": [
    "clk = 100e6                 #Clock Freq.  \n",
    "N = 4                       #Oversampling \n",
    "BR = clk / N                #Baud Rate \n",
    "rolloff = 0.5               \n",
    "fs = N*BR                   #Sample Freq. \n",
    "Ts = 1/fs                   #Sample T. \n",
    "T = 1/BR                    #Symbol sep \n",
    "M = 2                       #Symbols (levels) \n",
    "Nsymb = 1e3                 #Simulation Length \n",
    "NB = 6                      #RC taps\n",
    "PRBSn = 9                   #PRBS order"
   ]
  },
  {
   "cell_type": "markdown",
   "metadata": {},
   "source": [
    "### 1) Generamos Pseudo Random Bit Sequence \n",
    "\n",
    "Modelo de implementación con LFSR \n",
    "![LFSR](./imgs/lfsr.png)\n",
    "\n",
    "**NOTA**: Se agrega una pequeña modificación al módulo ff para que pueda recibir enteros en cualquier base (decimal, hexa, bin) y cargue la representación en bits a cada uno de los ff \n",
    "\n",
    "```\n",
    "binList = [1 if digit=='1' else 0 for digit in bin(lfsrISeed)[2:]] \n",
    "```"
   ]
  },
  {
   "cell_type": "code",
   "execution_count": 99,
   "metadata": {},
   "outputs": [],
   "source": [
    "lfsrI = fm.ff(PRBSn)\n",
    "lfsrQ = fm.ff(PRBSn)\n",
    "lfsrISeed=np.array([1,1,0,1,0,1,0,1,0])\n",
    "lfsrQSeed=np.array([1,1,1,1,1,1,1,1,0])\n",
    "#lfsrISeed=0xAA1           \n",
    "#lfsrQSeed=0x1FE            \n",
    "\n",
    "#Secuencia creada a partir de la LFSR \n"
   ]
  },
  {
   "cell_type": "code",
   "execution_count": 104,
   "metadata": {},
   "outputs": [],
   "source": [
    "PRBSeqI= []\n",
    "PRBSeqQ= []\n",
    "#LFSR siguiendo el modelo de ejemplo \n",
    "lfsrI.i = lfsrISeed\n",
    "lfsrQ.i = lfsrQSeed\n",
    "lfsrI.run_clock()\n",
    "lfsrQ.run_clock()\n",
    "PRBSeqI.append(lfsrI[8].o)\n",
    "PRBSeqQ.append(lfsrQ[8].o)\n",
    "for clkPulse in range(int(Nsymb-1)):\n",
    "    lfsrI[0].i =  lfsrI[4].o ^ lfsrI[8].o       #Suma - XOR \n",
    "    lfsrQ[0].i =  lfsrQ[4].o ^ lfsrQ[8].o       \n",
    "    \n",
    "    for p in range(1,PRBSn):                    #Desplazamiento\n",
    "        lfsrI[p].i = lfsrI[p-1].o\n",
    "        lfsrQ[p].i = lfsrQ[p-1].o\n",
    "    \n",
    "    lfsrI.run_clock()\n",
    "    lfsrQ.run_clock()\n",
    "    \n",
    "    PRBSeqI.append(lfsrI[8].o)\n",
    "    PRBSeqQ.append(lfsrQ[8].o)"
   ]
  },
  {
   "cell_type": "code",
   "execution_count": 105,
   "metadata": {},
   "outputs": [
    {
     "name": "stdout",
     "output_type": "stream",
     "text": [
      "[0, 1, 0, 1, 0, 1, 0, 1, 1, 0, 0, 0, 0, 1, 1, 0, 1, 1, 1, 1]\n",
      "[0, 1, 1, 1, 1, 1, 1, 1, 1, 1, 0, 0, 0, 0, 0, 1, 1, 1, 1, 0]\n"
     ]
    }
   ],
   "source": [
    "print(PRBSeqI[:20])\n",
    "print(PRBSeqQ[:20])\n",
    "SaveBytesTbFile(PRBSeqI,\"./PatternVec/PRBSeqI.in\",1)\n",
    "SaveBytesTbFile(PRBSeqQ,\"./PatternVec/PRBSeqQ.in\",1)"
   ]
  },
  {
   "cell_type": "markdown",
   "metadata": {},
   "source": [
    "### 2) Mapper \n",
    "\n",
    "Se creó una secuencia de **bits** aleatorios. Para convertir estos bits en símbolos, se implementa un bloque de mapeo, que convierte los bits 1 en +1 y los bits 0 en -1"
   ]
  },
  {
   "cell_type": "code",
   "execution_count": null,
   "metadata": {},
   "outputs": [],
   "source": [
    "akI = np.array(PRBSeqI)\n",
    "akQ = np.array(PRBSeqQ)\n",
    "\n",
    "akI[akI>0] = 1 \n",
    "akI[akI<=0] = -1 \n",
    "akQ[akQ>0]=1\n",
    "akQ[akQ<=0]=-1\n",
    "\n",
    "#Paso a Fixed Point aunque no tiene mucho sentido \n",
    "#porque no piero info al truncar 1 y -1 con 2 bits \n",
    "\n",
    "akIFp =  arrayFixedInt(2,0, akI,'S', \n",
    "    roundMode='trunc', saturateMode='saturate')\n",
    "akQFp =  arrayFixedInt(2,0, akQ,'S', \n",
    "    roundMode='trunc', saturateMode='saturate')"
   ]
  },
  {
   "cell_type": "code",
   "execution_count": null,
   "metadata": {},
   "outputs": [],
   "source": [
    "SaveBytesTbFile(akIFp,\"./PatternVec/aKI.in\",0)\n",
    "SaveBytesTbFile(akQFp,\"./PatternVec/aKQ.in\",0)"
   ]
  },
  {
   "cell_type": "markdown",
   "metadata": {},
   "source": [
    "### 3) Upsampler \n",
    "\n",
    "Lo hago solo para comparar. Al hacer el filtro de pulse shaping con transformación polifásica no necesito upsamplear antes "
   ]
  },
  {
   "cell_type": "code",
   "execution_count": null,
   "metadata": {},
   "outputs": [],
   "source": [
    "def upsampler(symb,N): \n",
    "    symb_up = np.zeros(N*len(symb),dtype=int)\n",
    "    symb_up[: :N] = [Fp.fValue for Fp in symb]                    #Cada N igualo a symb\n",
    "    return  symb_up"
   ]
  },
  {
   "cell_type": "code",
   "execution_count": null,
   "metadata": {},
   "outputs": [],
   "source": [
    "akIup = upsampler(akIFp,N)\n",
    "akQup = upsampler(akQFp,N)"
   ]
  },
  {
   "cell_type": "markdown",
   "metadata": {},
   "source": [
    " * Comprobamos que los símbolos se hayan creado y sobremuestreado correctamente "
   ]
  },
  {
   "cell_type": "code",
   "execution_count": null,
   "metadata": {},
   "outputs": [],
   "source": [
    "print(akI[:4])\n",
    "print(akQ[:4])\n",
    "print(akIup[:4*N])\n",
    "print(akQup[:4*N])"
   ]
  },
  {
   "cell_type": "markdown",
   "metadata": {},
   "source": [
    " * Graficamos histogramas para lo símbolos aleatorios"
   ]
  },
  {
   "cell_type": "code",
   "execution_count": null,
   "metadata": {},
   "outputs": [],
   "source": [
    "plt.figure(figsize=[14,6])\n",
    "plt.suptitle(\"Símbolos aleatorios\")\n",
    "plt.subplot(1,2,1)\n",
    "plt.hist(akI,label='Simbolos: %d' % Nsymb,color='#EEA411')\n",
    "plt.legend()\n",
    "plt.xlabel('Simbolos')\n",
    "plt.ylabel('Repeticiones')\n",
    "plt.subplot(1,2,2)\n",
    "plt.hist(akQ,label='Simbolos: %d' % Nsymb,color='#116864')\n",
    "plt.legend()\n",
    "plt.xlabel('Simbolos')\n",
    "plt.ylabel('Repeticiones')\n",
    "plt.show()"
   ]
  },
  {
   "cell_type": "markdown",
   "metadata": {},
   "source": [
    "### 4) Pulse shaping "
   ]
  },
  {
   "cell_type": "code",
   "execution_count": null,
   "metadata": {},
   "outputs": [],
   "source": [
    "(t,h) = rcosine(rolloff,T,N,NB,Norm=False)\n",
    "#Cuantizo \n",
    "Fp = arrayFixedInt(8,7, h,'S', \n",
    "    roundMode='round', saturateMode='saturate')\n",
    "hFp = [FixedPintValue.fValue for FixedPintValue in Fp]\n"
   ]
  },
  {
   "cell_type": "markdown",
   "metadata": {},
   "source": [
    "* Respuesta en frecuencia de filtro **cuantizado** "
   ]
  },
  {
   "cell_type": "code",
   "execution_count": null,
   "metadata": {},
   "outputs": [],
   "source": [
    "us = 1e6\n",
    "plt.figure(figsize = [10,10])\n",
    "plt.grid(linestyle=':', linewidth=0.75)\n",
    "plt.plot(t*us,hFp,'r-o',linewidth = 0.7,\n",
    "         markersize=4,label=r'$\\beta=%2.2f$'%rolloff)\n",
    "\n",
    "plt.title ('Respuesta al impulso raised cosine Fixed Point')\n",
    "plt.legend()\n",
    "plt.xlim(t[0]*us,t[-1]*us)\n",
    "plt.ylim(-0.25,1.25)\n",
    "plt.xlabel('Tiempo [$\\mu$s]')\n",
    "plt.ylabel('Amplitud')"
   ]
  },
  {
   "cell_type": "markdown",
   "metadata": {},
   "source": [
    "* Respuesta en frecuencia "
   ]
  },
  {
   "cell_type": "code",
   "execution_count": null,
   "metadata": {},
   "outputs": [],
   "source": [
    "NFTT = 1024 \n",
    "[H,A,F] = resp_freq(hFp, Ts, NFTT)\n",
    "H_dB = 20*np.log10(H)- 20*np.log10(H[0])"
   ]
  },
  {
   "cell_type": "code",
   "execution_count": null,
   "metadata": {},
   "outputs": [],
   "source": [
    "fig=plt.figure(figsize=[14,6])\n",
    "fig.suptitle('Respuesta en frecuencia de Fixed Point RC ', fontsize=16)\n",
    "\n",
    "plt.semilogx(F,H_dB ,'r', lw=1.0, label=r'$\\beta=%2.2f$'%rolloff)\n",
    "\n",
    "plt.axvline(x=(1./Ts)/2.,color='m',linewidth=2.0,\n",
    "           linestyle=\":\")\n",
    "plt.axvline(x=(1./T)/2.,color='#454444',\n",
    "            linewidth=1,linestyle=\"--\") \n",
    "plt.axhline(y=20*np.log10(0.5),color='#454444',\n",
    "            linewidth=1,linestyle=\"--\")\n",
    "\n",
    "plt.legend(loc=3)\n",
    "plt.grid(True)\n",
    "plt.xlim(10e5,F[-1]*10)\n",
    "plt.ylim(-80,10)\n",
    "plt.xlabel('Frequencia [Hz]')\n",
    "plt.ylabel('Magnitud [dB]')\n",
    "plt.show()"
   ]
  },
  {
   "cell_type": "markdown",
   "metadata": {},
   "source": [
    "* Realizamos la convolución tratando de simular la implementación en hardware\n",
    "\n",
    "![FIR filter](./imgs/FIRFilter.png)\n",
    "\n",
    "En vez de implementar el filtro de la figura se puede aplicar una **transformación polifásica**, dividir la señal en las 4 fases (N=4) y así lograr un hardware de 4 veces menor longitud y así más simple de implementar. \n",
    "\n",
    "La longitud de cada filtro será N x NBaudiosRC / N "
   ]
  },
  {
   "cell_type": "code",
   "execution_count": null,
   "metadata": {},
   "outputs": [],
   "source": [
    "(t,h) = rcosine(rolloff,T,N,NB,Norm=False)\n",
    "txSymbISoft = np.convolve(hFp,akIup,'same')   "
   ]
  },
  {
   "cell_type": "markdown",
   "metadata": {},
   "source": [
    "#### Implemetanción filtro con transformación polifásica"
   ]
  },
  {
   "cell_type": "code",
   "execution_count": null,
   "metadata": {},
   "outputs": [],
   "source": [
    "lFilt = int( (len(h)-1) / N)             #Longitud de Filtro por fase \n",
    "\n",
    "txSymbI = []                   #Salida In Phase - Simbolos convolucionados\n",
    "txSymbQ = []                   #Salida In Quadrature \n",
    "\n",
    "ConvRegI = fm.ff(lFilt)                   #Reg para convolucion\n",
    "ConvRegQ = fm.ff(lFilt)                   #Reg para convolucion de SymbQ \n"
   ]
  },
  {
   "cell_type": "code",
   "execution_count": null,
   "metadata": {},
   "outputs": [],
   "source": [
    "k=-1\n",
    "for validPulse in range(int(Nsymb)): \n",
    "    k=k+1\n",
    "    #Seq input - Uso directamente la PRBSeq mapeada a Baud Rate (sin Os)\n",
    "    ConvRegI[0].i = akIFp[k].fValue\n",
    "    ConvRegQ[0].i = akQFp[k].fValue\n",
    "    #Shift register a Baud Rate \n",
    "    for z in range(1,lFilt): \n",
    "        ConvRegI[z].i = ConvRegI[z-1].o \n",
    "        ConvRegQ[z].i = ConvRegQ[z-1].o \n",
    "      \n",
    "    #Mux de coeficientes - fase de 1 a 4 \n",
    "    #A frecuencia de clk (en 1 validPulse hago 4 mult)\n",
    "   \n",
    "    for clkPulse in range(N):\n",
    "        SumI = 0\n",
    "        SumQ = 0\n",
    "        print(\"y[{}]\".format(len(txSymbI)))\n",
    "        for Reg in range(lFilt):\n",
    "            numCoef = clkPulse +Reg*N\n",
    "            SumI = SumI + (ConvRegI[Reg].o * hFp[numCoef])\n",
    "            SumQ = SumQ + (ConvRegQ[Reg].o * hFp[numCoef])\n",
    "            print(\"Término {} = ConvReg[{}] ({}) * hFp[{}] ({})\".\n",
    "               format(Reg,Reg,ConvRegI[Reg].o,numCoef,hFp[numCoef]))\n",
    "       \n",
    "        txSymbI.append(SumI) \n",
    "        txSymbQ.append(SumQ)\n",
    "    \n",
    "    #Nuevo pulso de clk/4  = Baud Rate \n",
    "    #Desplazamiento de registros \n",
    "    ConvRegI.run_clock()\n",
    "    ConvRegQ.run_clock()\n",
    "    print(\"------------Shift-----------\")"
   ]
  },
  {
   "cell_type": "markdown",
   "metadata": {},
   "source": [
    "* Convertimos los símbolos a la resolución del hardware Fixed point S(8,7) con truncado "
   ]
  },
  {
   "cell_type": "code",
   "execution_count": null,
   "metadata": {},
   "outputs": [],
   "source": [
    "FpI = arrayFixedInt(8,7, txSymbI,'S', \n",
    "    roundMode='trunc', saturateMode='saturate')\n",
    "txSymbIFp = [FixedPointValue.fValue for FixedPointValue in FpI]\n",
    "\n",
    "FpQ = arrayFixedInt(8,7, txSymbQ,'S', \n",
    "    roundMode='trunc', saturateMode='saturate')\n",
    "txSymbQFp = [FixedPointValue.fValue for FixedPointValue in FpQ]"
   ]
  },
  {
   "cell_type": "markdown",
   "metadata": {},
   "source": [
    "* Graficamos la señal S(t) con resolución Fixed Point "
   ]
  },
  {
   "cell_type": "code",
   "execution_count": null,
   "metadata": {},
   "outputs": [],
   "source": [
    "\n",
    "convDelay = int(len(hFp)/2) + N                        # + N por que es como upsamplear \n",
    "\n",
    "fig=plt.figure(figsize=[15,10])\n",
    "fig.suptitle('S(t) - Simbolos convolucionados con RC - Fp', fontsize=16)\n",
    "\n",
    "sp1= plt.subplot(2,1,1)\n",
    "sp1.set_title(\"$S_I(t)$\")\n",
    "plt.plot(txSymbIFp,'r-',linewidth=1.0,label=\"$S_I(t)$ Fx P\")\n",
    "plt.plot(txSymbI,'k--',linewidth=.70,label=\"$S_I(t)$ Fl P\")\n",
    "plt.scatter([i + convDelay for i in np.where(akIup!=0)],akIup[akIup!=0],lw=3,\n",
    "            label=\"In Phase Symb\",color=\"#1abc9c\")\n",
    "plt.legend()\n",
    "plt.xlim(1000,1100)\n",
    "plt.grid(True)\n",
    "\n",
    "\n",
    "sp2 = plt.subplot(2,1,2)\n",
    "sp2.set_title(\"$S_Q(t)$\")\n",
    "plt.plot(txSymbQFp,'b-',linewidth=1.0,label=\"$S_Q(t)$ Fx P\")\n",
    "plt.plot(txSymbQ,'k--',linewidth=.70,label=\"$S_Q(t)$ Fl P\")\n",
    "plt.scatter([i + convDelay for i in np.where(akQup!=0)],akQup[akQup!=0],lw=3,\n",
    "            label=\"Quad Symb\",color=\"#1abc9c\")\n",
    "plt.legend()\n",
    "plt.xlim(1000,1100)\n",
    "plt.grid(True)\n",
    "\n",
    "\n",
    "plt.show()"
   ]
  },
  {
   "cell_type": "code",
   "execution_count": null,
   "metadata": {},
   "outputs": [],
   "source": [
    "SaveBytesTbFile(FpI,\"./vectors/txSymbIFp.in\",0)\n",
    "SaveBytesTbFile(FpQ,\"./vectors/txSymbQFp.in\",0)"
   ]
  },
  {
   "cell_type": "markdown",
   "metadata": {},
   "source": [
    "* Diagrama de ojo de los símbolos transmitidos "
   ]
  },
  {
   "cell_type": "code",
   "execution_count": null,
   "metadata": {},
   "outputs": [],
   "source": [
    "fig=plt.figure(figsize=[16,16])\n",
    "guard=200\n",
    "P=1\n",
    "eyediagram(txSymbIFp[guard:-guard],N,P,NB)\n",
    "plt.grid(linestyle='--', linewidth=0.5)\n",
    "plt.title ('In - Phase')\n",
    "\n",
    "fig=plt.figure(figsize=[16,16])\n",
    "guard=200\n",
    "P=1\n",
    "eyediagram(txSymbQFp[guard:-guard],N,P,NB)\n",
    "plt.grid(linestyle='--', linewidth=0.5)\n",
    "plt.title ('Quadrature')"
   ]
  },
  {
   "cell_type": "markdown",
   "metadata": {},
   "source": [
    "* Constelación de símbolos transmitidos "
   ]
  },
  {
   "cell_type": "code",
   "execution_count": null,
   "metadata": {},
   "outputs": [],
   "source": [
    "To=4\n",
    "fig = plt.figure(figsize=[5,5])\n",
    "                               \n",
    "plt.plot(txSymbIFp[100+To:len(txSymbIFp)-(100-To):int(N)],                \n",
    "        txSymbQFp[100+To:len(txSymbQFp)-(100-To):int(N)],                     \n",
    "        '.r',lw=2.0,markersize=3)\n",
    "plt.grid()\n",
    "plt.title(\"Constelación de símbolos transmitidos\")\n",
    "plt.tight_layout()"
   ]
  },
  {
   "cell_type": "markdown",
   "metadata": {},
   "source": [
    "### 5) Downsampler "
   ]
  },
  {
   "cell_type": "code",
   "execution_count": null,
   "metadata": {},
   "outputs": [],
   "source": [
    "def DownSampler(symbUp,N,To): \n",
    "    symb = np.zeros(len(symbUp), dtype = int)\n",
    "    symb = symbUp[To: :int(N)] \n",
    "    return symb "
   ]
  },
  {
   "cell_type": "code",
   "execution_count": null,
   "metadata": {},
   "outputs": [],
   "source": [
    "To=1\n",
    "rkI = DownSampler(txSymbIFp,N,To)\n",
    "rkQ = DownSampler(txSymbQFp,N,To)\n",
    "print(len(rkI))"
   ]
  },
  {
   "cell_type": "markdown",
   "metadata": {},
   "source": [
    "### 6) Slicer \n"
   ]
  },
  {
   "cell_type": "code",
   "execution_count": null,
   "metadata": {},
   "outputs": [],
   "source": [
    "akIhat = [(1 if value >=0 else -1) for value in rkI]\n",
    "akQhat = [(1 if value >=0 else -1) for value in rkQ]"
   ]
  },
  {
   "cell_type": "code",
   "execution_count": null,
   "metadata": {},
   "outputs": [],
   "source": [
    "To=1\n",
    "fig = plt.figure(figsize=[5,5])\n",
    "                               \n",
    "plt.plot(akIhat[100+To:len(akIhat)-(100-To):int(N)],                \n",
    "        akQhat[100+To:len(akQhat)-(100-To):int(N)],                     \n",
    "        '.k',lw=2.0,markersize=4)\n",
    "plt.grid()\n",
    "plt.title(\"Constelación de símbolos recibidos\")\n",
    "plt.tight_layout()"
   ]
  },
  {
   "cell_type": "markdown",
   "metadata": {},
   "source": [
    "### 7) BER Checker "
   ]
  },
  {
   "cell_type": "code",
   "execution_count": null,
   "metadata": {},
   "outputs": [],
   "source": [
    "ErrorI=0\n",
    "ErrorQ=0\n",
    "\n",
    "for i in range(int(Nsymb-1)):\n",
    "    if akI[i]!=akIhat[i]:\n",
    "        ErrorI=0\n",
    "    if akQ[i]!=akQhat[i]:\n",
    "        ErrorQ=0\n",
    "\n",
    "        \n",
    "SERI = ErrorI/Nsymb\n",
    "SERQ = ErrorQ/Nsymb\n",
    "\n",
    "#Calculo de BER de forma simple, aproximada\n",
    "BERI = SERI * (1/np.log2(M))\n",
    "BERQ = SERQ * (1/np.log2(M))\n",
    "\n",
    "\n",
    "print(\"Bit Error Rate In Phase = \",BERI )\n",
    "print(\"Bit Error Rate Quadrature = \",BERQ )"
   ]
  },
  {
   "cell_type": "markdown",
   "metadata": {},
   "source": [
    "Comprobamos que no hay error en el sistema de comunicación básico implementado, ya que no hay diferencia entre los bits transmitidos y recibidos, lo cual corresponde con que no se simule un canal que adicione ruido o cualquier otra fuente de ruido que afecte al a información. El **ruido de cuantización** tampoco afecta en la detección de símbolos en este caso "
   ]
  }
 ],
 "metadata": {
  "kernelspec": {
   "display_name": "Python 3",
   "language": "python",
   "name": "python3"
  },
  "language_info": {
   "codemirror_mode": {
    "name": "ipython",
    "version": 3
   },
   "file_extension": ".py",
   "mimetype": "text/x-python",
   "name": "python",
   "nbconvert_exporter": "python",
   "pygments_lexer": "ipython3",
   "version": "3.8.10"
  }
 },
 "nbformat": 4,
 "nbformat_minor": 4
}
