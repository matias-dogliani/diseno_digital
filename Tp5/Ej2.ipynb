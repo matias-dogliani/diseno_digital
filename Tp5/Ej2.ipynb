{
 "cells": [
  {
   "cell_type": "markdown",
   "metadata": {},
   "source": [
    "# Trabajo práctico Nº 5 \n",
    "\n",
    "## Ejercicio 2 \n",
    "\n",
    "Se implementa el mismo sistema de comunicación simplificado que en el ejercicio anterior aunque de una forma más ligada a la implementación en hardware. Para así poder generar los archivos de vectores, probar en varios puntos la señal, etc. "
   ]
  },
  {
   "cell_type": "code",
   "execution_count": 1,
   "metadata": {},
   "outputs": [],
   "source": [
    "import numpy as np\n",
    "import matplotlib.pyplot as plt\n",
    "import tool.ff_model  as fm\n",
    "from tool._fixedInt import * \n",
    "from tool.DSPtools import *"
   ]
  },
  {
   "cell_type": "markdown",
   "metadata": {},
   "source": [
    "Definimos los mismos parámetros que para el ejercicio anterior, agregando algunos extras, como el **orden de PSBR** a implementar emulando una LSFR "
   ]
  },
  {
   "cell_type": "code",
   "execution_count": 2,
   "metadata": {},
   "outputs": [],
   "source": [
    "clk = 100e6                 #Clock Freq.  \n",
    "N = 4                       #Oversampling \n",
    "BR = clk / N                #Baud Rate \n",
    "rolloff = 0.5               \n",
    "fs = N*BR                   #Sample Freq. \n",
    "Ts = 1/fs                   #Sample T. \n",
    "T = 1/BR                    #Symbol sep \n",
    "M = 2                       #Symbols (levels) \n",
    "Nsymb = 1e3                 #Simulation Length \n",
    "NB = 6                      #RC taps\n",
    "PRBSn = 9                   #PRBS order"
   ]
  },
  {
   "cell_type": "markdown",
   "metadata": {},
   "source": [
    "### 1) Generamos Pseudo Random Bit Sequence \n",
    "\n",
    "Modelo de implementación con LFSR \n",
    "![LFSR](./imgs/lfsr.png)\n",
    "\n",
    "**NOTA**: Se agrega una pequeña modificación al módulo ff para que pueda recibir enteros en cualquier base (decimal, hexa, bin) y cargue la representación en bits a cada uno de los ff \n",
    "\n",
    "```\n",
    "binList = [1 if digit=='1' else 0 for digit in bin(lfsrISeed)[2:]] \n",
    "```"
   ]
  },
  {
   "cell_type": "code",
   "execution_count": 17,
   "metadata": {},
   "outputs": [],
   "source": [
    "lfsrI = fm.ff(PRBSn)\n",
    "lfsrQ = fm.ff(PRBSn)\n",
    "#lfsrISeed=np.array([1,1,0,1,0,1,0,1,0])\n",
    "#lfsrQSeed=np.array([1,1,1,1,1,1,1,1,0])\n",
    "lfsrISeed=0x1AA            #El modulo ff tambien recibe\n",
    "lfsrQSeed=0x1FE            #enteros ahora, y los desglosa en bits\n",
    "\n",
    "#Secuencia creada a partir de la LFSR \n",
    "PRBSeqI= []\n",
    "PRBSeqQ= []"
   ]
  },
  {
   "cell_type": "code",
   "execution_count": 18,
   "metadata": {},
   "outputs": [],
   "source": [
    "#LFSR siguiendo el modelo de ejemplo \n",
    "lfsrI.i = lfsrISeed\n",
    "lfsrQ.i = lfsrQSeed\n",
    "lfsrI.run_clock()\n",
    "lfsrQ.run_clock()\n",
    "\n",
    "for clkPulse in range(int(Nsymb)):\n",
    "    lfsrI[0].i =  lfsrI[4].o ^ lfsrI[8].o       #Suma - XOR \n",
    "    lfsrQ[0].i =  lfsrQ[4].o ^ lfsrQ[8].o       \n",
    "    \n",
    "    for p in range(1,PRBSn):                    #Desplazamiento\n",
    "        lfsrI[p].i = lfsrI[p-1].o\n",
    "        lfsrQ[p].i = lfsrQ[p-1].o\n",
    "    \n",
    "    lfsrI.run_clock()\n",
    "    lfsrQ.run_clock()\n",
    "    \n",
    "    PRBSeqI.append(lfsrI[PRBSn-1].o)\n",
    "    PRBSeqQ.append(lfsrQ[PRBSn-1].o)"
   ]
  },
  {
   "cell_type": "code",
   "execution_count": 20,
   "metadata": {},
   "outputs": [
    {
     "name": "stdout",
     "output_type": "stream",
     "text": [
      "[1, 0, 1, 0, 1, 0, 1, 1, 0, 0, 0, 0, 1, 1, 0, 1, 1, 1, 1, 0]\n",
      "[1, 1, 1, 1, 1, 1, 1, 1, 1, 0, 0, 0, 0, 0, 1, 1, 1, 1, 0, 1]\n"
     ]
    }
   ],
   "source": [
    "print(PRBSeqI[:20])\n",
    "print(PRBSeqQ[:20])"
   ]
  },
  {
   "cell_type": "code",
   "execution_count": 21,
   "metadata": {},
   "outputs": [
    {
     "name": "stdout",
     "output_type": "stream",
     "text": [
      "[1, 1, 0, 1, 0, 1, 0, 1, 0]\n"
     ]
    }
   ],
   "source": []
  }
 ],
 "metadata": {
  "kernelspec": {
   "display_name": "Python 3",
   "language": "python",
   "name": "python3"
  },
  "language_info": {
   "codemirror_mode": {
    "name": "ipython",
    "version": 3
   },
   "file_extension": ".py",
   "mimetype": "text/x-python",
   "name": "python",
   "nbconvert_exporter": "python",
   "pygments_lexer": "ipython3",
   "version": "3.8.10"
  }
 },
 "nbformat": 4,
 "nbformat_minor": 4
}
