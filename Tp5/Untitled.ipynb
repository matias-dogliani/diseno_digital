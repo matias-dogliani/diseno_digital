{
 "cells": [
  {
   "cell_type": "markdown",
   "metadata": {},
   "source": [
    "# Comparación de vectores - Vector matching"
   ]
  },
  {
   "cell_type": "code",
   "execution_count": 17,
   "metadata": {},
   "outputs": [],
   "source": [
    "def CompareTbBin(TbBinFileName,BinPyFileName): \n",
    "   \n",
    "    error = 0\n",
    "    PatternValue = []\n",
    "    CorruptedValue = [] \n",
    "    \n",
    "    TbBin = open(TbBinFileName,'r').readlines()\n",
    "    PyBin = open(BinPyFileName,'r').readlines()\n",
    "   \n",
    "    for i,res in enumerate(PyBin): \n",
    "        if(res != TbBin[i]):   \n",
    "            error +=1 \n",
    "            PatternValue.append(res[:-1]) #Saco el \\n\n",
    "            CorruptedValue.append(TbBin[i])\n",
    "\n",
    "    errorRate = error/i if error else 0\n",
    "    \n",
    "    return errorRate,error,PatternValue,CorruptedValue \n"
   ]
  },
  {
   "cell_type": "code",
   "execution_count": 2,
   "metadata": {},
   "outputs": [],
   "source": [
    "def LogFileGen (error,errorRate,PatternValue,CorruptedValue,FileName): \n",
    "    if (er): \n",
    "        logFile= open(FileName,'w')\n",
    "        print(error,errorRate,sep=\" \",file=logFile)\n",
    "        print(\"Index\",\"Python\", \"TestBench\",sep = \",\",file=logFile)\n",
    "        for i,Value in enumerate(PatternValue):\n",
    "            print(i,Value, CorruptedValue[i], sep=\",\",file=logFile)  \n",
    "        logFile.close()"
   ]
  },
  {
   "cell_type": "markdown",
   "metadata": {},
   "source": [
    "## Comparación de PRBS"
   ]
  },
  {
   "cell_type": "code",
   "execution_count": 34,
   "metadata": {},
   "outputs": [
    {
     "name": "stdout",
     "output_type": "stream",
     "text": [
      "Error en PRBSeqI:  0\n"
     ]
    }
   ],
   "source": [
    "[er,erR,PValue,CValue] = CompareTbBin(\"./TbVec/tb_PRBSeqI.o\",\n",
    "                                      \"./PatternVec/PRBSeqI.in\") \n",
    "print(\"Error en PRBSeqI: \", er)\n",
    "if (er): \n",
    "    LogFileGen(er,erR,PValue,CValue,\"./logs/Error_PRBSeqI.csv\")"
   ]
  },
  {
   "cell_type": "code",
   "execution_count": 35,
   "metadata": {},
   "outputs": [
    {
     "name": "stdout",
     "output_type": "stream",
     "text": [
      "Error en PRBSeqQ:  0\n"
     ]
    }
   ],
   "source": [
    "[er,erR,PValue,CValue] = CompareTbBin(\"./TbVec/tb_PRBSeqQ.o\",\n",
    "                                      \"./PatternVec/PRBSeqQ.in\") \n",
    "print(\"Error en PRBSeqQ: \", er)\n",
    "if (er): \n",
    "    LogFileGen(er,erR,PValue,CValue,\"./logs/Error_PRBSeqQ.csv\")"
   ]
  },
  {
   "cell_type": "markdown",
   "metadata": {},
   "source": [
    "## Comparacióm símbolos "
   ]
  },
  {
   "cell_type": "code",
   "execution_count": 31,
   "metadata": {},
   "outputs": [
    {
     "ename": "FileNotFoundError",
     "evalue": "[Errno 2] No such file or directory: './TbVec/tb_mapperI.o'",
     "output_type": "error",
     "traceback": [
      "\u001b[0;31m---------------------------------------------------------------------------\u001b[0m",
      "\u001b[0;31mFileNotFoundError\u001b[0m                         Traceback (most recent call last)",
      "\u001b[0;32m<ipython-input-31-9ef9b4c6bd99>\u001b[0m in \u001b[0;36m<module>\u001b[0;34m\u001b[0m\n\u001b[0;32m----> 1\u001b[0;31m [er,erR,PValue,CValue] = CompareTbBin(\"./TbVec/tb_mapperI.o\",\n\u001b[0m\u001b[1;32m      2\u001b[0m                                       \"./PatternVec/aKI.in\") \n\u001b[1;32m      3\u001b[0m \u001b[0mprint\u001b[0m\u001b[0;34m(\u001b[0m\u001b[0;34m\"Error en Mapper I: \"\u001b[0m\u001b[0;34m,\u001b[0m \u001b[0mer\u001b[0m\u001b[0;34m)\u001b[0m\u001b[0;34m\u001b[0m\u001b[0;34m\u001b[0m\u001b[0m\n\u001b[1;32m      4\u001b[0m \u001b[0;32mif\u001b[0m \u001b[0;34m(\u001b[0m\u001b[0mer\u001b[0m\u001b[0;34m)\u001b[0m\u001b[0;34m:\u001b[0m\u001b[0;34m\u001b[0m\u001b[0;34m\u001b[0m\u001b[0m\n\u001b[1;32m      5\u001b[0m     \u001b[0mLogFileGen\u001b[0m\u001b[0;34m(\u001b[0m\u001b[0mer\u001b[0m\u001b[0;34m,\u001b[0m\u001b[0merR\u001b[0m\u001b[0;34m,\u001b[0m\u001b[0mPValue\u001b[0m\u001b[0;34m,\u001b[0m\u001b[0mCValue\u001b[0m\u001b[0;34m,\u001b[0m\u001b[0;34m\"./logs/Error_mapperI.csv\"\u001b[0m\u001b[0;34m)\u001b[0m\u001b[0;34m\u001b[0m\u001b[0;34m\u001b[0m\u001b[0m\n",
      "\u001b[0;32m<ipython-input-17-fad285f1bdee>\u001b[0m in \u001b[0;36mCompareTbBin\u001b[0;34m(TbBinFileName, BinPyFileName)\u001b[0m\n\u001b[1;32m      5\u001b[0m     \u001b[0mCorruptedValue\u001b[0m \u001b[0;34m=\u001b[0m \u001b[0;34m[\u001b[0m\u001b[0;34m]\u001b[0m\u001b[0;34m\u001b[0m\u001b[0;34m\u001b[0m\u001b[0m\n\u001b[1;32m      6\u001b[0m \u001b[0;34m\u001b[0m\u001b[0m\n\u001b[0;32m----> 7\u001b[0;31m     \u001b[0mTbBin\u001b[0m \u001b[0;34m=\u001b[0m \u001b[0mopen\u001b[0m\u001b[0;34m(\u001b[0m\u001b[0mTbBinFileName\u001b[0m\u001b[0;34m,\u001b[0m\u001b[0;34m'r'\u001b[0m\u001b[0;34m)\u001b[0m\u001b[0;34m.\u001b[0m\u001b[0mreadlines\u001b[0m\u001b[0;34m(\u001b[0m\u001b[0;34m)\u001b[0m\u001b[0;34m\u001b[0m\u001b[0;34m\u001b[0m\u001b[0m\n\u001b[0m\u001b[1;32m      8\u001b[0m     \u001b[0mPyBin\u001b[0m \u001b[0;34m=\u001b[0m \u001b[0mopen\u001b[0m\u001b[0;34m(\u001b[0m\u001b[0mBinPyFileName\u001b[0m\u001b[0;34m,\u001b[0m\u001b[0;34m'r'\u001b[0m\u001b[0;34m)\u001b[0m\u001b[0;34m.\u001b[0m\u001b[0mreadlines\u001b[0m\u001b[0;34m(\u001b[0m\u001b[0;34m)\u001b[0m\u001b[0;34m\u001b[0m\u001b[0;34m\u001b[0m\u001b[0m\n\u001b[1;32m      9\u001b[0m \u001b[0;34m\u001b[0m\u001b[0m\n",
      "\u001b[0;31mFileNotFoundError\u001b[0m: [Errno 2] No such file or directory: './TbVec/tb_mapperI.o'"
     ]
    }
   ],
   "source": [
    "[er,erR,PValue,CValue] = CompareTbBin(\"./TbVec/tb_mapperI.o\",\n",
    "                                      \"./PatternVec/aKI.in\") \n",
    "print(\"Error en Mapper I: \", er)\n",
    "if (er): \n",
    "    LogFileGen(er,erR,PValue,CValue,\"./logs/Error_mapperI.csv\")"
   ]
  },
  {
   "cell_type": "code",
   "execution_count": 30,
   "metadata": {},
   "outputs": [
    {
     "ename": "FileNotFoundError",
     "evalue": "[Errno 2] No such file or directory: './TbVec/tb_mapperQ.o'",
     "output_type": "error",
     "traceback": [
      "\u001b[0;31m---------------------------------------------------------------------------\u001b[0m",
      "\u001b[0;31mFileNotFoundError\u001b[0m                         Traceback (most recent call last)",
      "\u001b[0;32m<ipython-input-30-c6e0d48cb419>\u001b[0m in \u001b[0;36m<module>\u001b[0;34m\u001b[0m\n\u001b[0;32m----> 1\u001b[0;31m [er,erR,PValue,CValue] = CompareTbBin(\"./TbVec/tb_mapperQ.o\",\n\u001b[0m\u001b[1;32m      2\u001b[0m                                       \"./PatternVec/aKQ.in\") \n\u001b[1;32m      3\u001b[0m \u001b[0mprint\u001b[0m\u001b[0;34m(\u001b[0m\u001b[0;34m\"Error en Mapper Q: \"\u001b[0m\u001b[0;34m,\u001b[0m \u001b[0mer\u001b[0m\u001b[0;34m)\u001b[0m\u001b[0;34m\u001b[0m\u001b[0;34m\u001b[0m\u001b[0m\n\u001b[1;32m      4\u001b[0m \u001b[0;32mif\u001b[0m \u001b[0;34m(\u001b[0m\u001b[0mer\u001b[0m\u001b[0;34m)\u001b[0m\u001b[0;34m:\u001b[0m\u001b[0;34m\u001b[0m\u001b[0;34m\u001b[0m\u001b[0m\n\u001b[1;32m      5\u001b[0m     \u001b[0mLogFileGen\u001b[0m\u001b[0;34m(\u001b[0m\u001b[0mer\u001b[0m\u001b[0;34m,\u001b[0m\u001b[0merR\u001b[0m\u001b[0;34m,\u001b[0m\u001b[0mPValue\u001b[0m\u001b[0;34m,\u001b[0m\u001b[0mCValue\u001b[0m\u001b[0;34m,\u001b[0m\u001b[0;34m\"./logs/Error_mapperQ.csv\"\u001b[0m\u001b[0;34m)\u001b[0m\u001b[0;34m\u001b[0m\u001b[0;34m\u001b[0m\u001b[0m\n",
      "\u001b[0;32m<ipython-input-17-fad285f1bdee>\u001b[0m in \u001b[0;36mCompareTbBin\u001b[0;34m(TbBinFileName, BinPyFileName)\u001b[0m\n\u001b[1;32m      5\u001b[0m     \u001b[0mCorruptedValue\u001b[0m \u001b[0;34m=\u001b[0m \u001b[0;34m[\u001b[0m\u001b[0;34m]\u001b[0m\u001b[0;34m\u001b[0m\u001b[0;34m\u001b[0m\u001b[0m\n\u001b[1;32m      6\u001b[0m \u001b[0;34m\u001b[0m\u001b[0m\n\u001b[0;32m----> 7\u001b[0;31m     \u001b[0mTbBin\u001b[0m \u001b[0;34m=\u001b[0m \u001b[0mopen\u001b[0m\u001b[0;34m(\u001b[0m\u001b[0mTbBinFileName\u001b[0m\u001b[0;34m,\u001b[0m\u001b[0;34m'r'\u001b[0m\u001b[0;34m)\u001b[0m\u001b[0;34m.\u001b[0m\u001b[0mreadlines\u001b[0m\u001b[0;34m(\u001b[0m\u001b[0;34m)\u001b[0m\u001b[0;34m\u001b[0m\u001b[0;34m\u001b[0m\u001b[0m\n\u001b[0m\u001b[1;32m      8\u001b[0m     \u001b[0mPyBin\u001b[0m \u001b[0;34m=\u001b[0m \u001b[0mopen\u001b[0m\u001b[0;34m(\u001b[0m\u001b[0mBinPyFileName\u001b[0m\u001b[0;34m,\u001b[0m\u001b[0;34m'r'\u001b[0m\u001b[0;34m)\u001b[0m\u001b[0;34m.\u001b[0m\u001b[0mreadlines\u001b[0m\u001b[0;34m(\u001b[0m\u001b[0;34m)\u001b[0m\u001b[0;34m\u001b[0m\u001b[0;34m\u001b[0m\u001b[0m\n\u001b[1;32m      9\u001b[0m \u001b[0;34m\u001b[0m\u001b[0m\n",
      "\u001b[0;31mFileNotFoundError\u001b[0m: [Errno 2] No such file or directory: './TbVec/tb_mapperQ.o'"
     ]
    }
   ],
   "source": [
    "[er,erR,PValue,CValue] = CompareTbBin(\"./TbVec/tb_mapperQ.o\",\n",
    "                                      \"./PatternVec/aKQ.in\") \n",
    "print(\"Error en Mapper Q: \", er)\n",
    "if (er): \n",
    "    LogFileGen(er,erR,PValue,CValue,\"./logs/Error_mapperQ.csv\")"
   ]
  },
  {
   "cell_type": "code",
   "execution_count": null,
   "metadata": {},
   "outputs": [],
   "source": []
  }
 ],
 "metadata": {
  "kernelspec": {
   "display_name": "Python 3",
   "language": "python",
   "name": "python3"
  },
  "language_info": {
   "codemirror_mode": {
    "name": "ipython",
    "version": 3
   },
   "file_extension": ".py",
   "mimetype": "text/x-python",
   "name": "python",
   "nbconvert_exporter": "python",
   "pygments_lexer": "ipython3",
   "version": "3.8.10"
  }
 },
 "nbformat": 4,
 "nbformat_minor": 4
}
