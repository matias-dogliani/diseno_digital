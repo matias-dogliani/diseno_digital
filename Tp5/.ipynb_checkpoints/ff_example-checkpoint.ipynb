{
 "cells": [
  {
   "cell_type": "markdown",
   "metadata": {},
   "source": [
    "# Importación de la clase FF"
   ]
  },
  {
   "cell_type": "code",
   "execution_count": 2,
   "metadata": {},
   "outputs": [],
   "source": [
    "from ff_model import ff"
   ]
  },
  {
   "cell_type": "markdown",
   "metadata": {},
   "source": [
    "# Uso básico"
   ]
  },
  {
   "cell_type": "code",
   "execution_count": 3,
   "metadata": {},
   "outputs": [
    {
     "name": "stdout",
     "output_type": "stream",
     "text": [
      "[300, 500]\n",
      "[0, 0]\n",
      "[300, 500]\n",
      "[300, 500]\n",
      "[300, 500]\n",
      "[0, 0]\n",
      "[400, 800]\n",
      "[0, 0]\n",
      "[400, 800]\n",
      "[400, 800]\n"
     ]
    }
   ],
   "source": [
    "du = ff(2)\n",
    "\n",
    "du[0].i = 300\n",
    "du[1].i = 500\n",
    "print(du.i)\n",
    "print(du.o)\n",
    "du.run_clock()\n",
    "print(du.i)\n",
    "print(du.o)\n",
    "du.reset()\n",
    "print(du.i)\n",
    "print(du.o)\n",
    "\n",
    "du.i = [400,800]\n",
    "print(du.i)\n",
    "print(du.o)\n",
    "du.run_clock()\n",
    "print(du.i)\n",
    "print(du.o)"
   ]
  },
  {
   "cell_type": "markdown",
   "metadata": {},
   "source": [
    "# Ejemplo de un LFSR7"
   ]
  },
  {
   "cell_type": "code",
   "execution_count": 5,
   "metadata": {},
   "outputs": [
    {
     "name": "stdout",
     "output_type": "stream",
     "text": [
      "Semilla: [0, 1, 1, 0, 1, 1, 0]\n",
      "0\n",
      "1\n",
      "1\n",
      "0\n",
      "1\n",
      "1\n",
      "0\n",
      "1\n",
      "0\n",
      "1\n",
      "1\n",
      "0\n",
      "1\n",
      "1\n",
      "1\n",
      "1\n",
      "0\n",
      "1\n",
      "1\n",
      "0\n",
      "0\n",
      "0\n",
      "1\n",
      "1\n",
      "0\n",
      "1\n",
      "0\n",
      "0\n",
      "1\n",
      "0\n"
     ]
    }
   ],
   "source": [
    "PRBS_ord = 7\n",
    "\n",
    "lfsr = ff(PRBS_ord)\n",
    "lfsr.i = [0,1,1,0,1,1,0]\n",
    "lfsr.run_clock()\n",
    "print(\"Semilla:\",lfsr.o)\n",
    "\n",
    "for clock in range(30):\n",
    "    \n",
    "    lfsr[0].i =  lfsr[6].o ^ lfsr[5].o\n",
    "    \n",
    "    for p in range(1,PRBS_ord):\n",
    "        lfsr[p].i = lfsr[p-1].o\n",
    "    output = lfsr[PRBS_ord-1].o\n",
    "    \n",
    "    lfsr.run_clock()\n",
    "    print(output)"
   ]
  }
 ],
 "metadata": {
  "kernelspec": {
   "display_name": "Python 3",
   "language": "python",
   "name": "python3"
  },
  "language_info": {
   "codemirror_mode": {
    "name": "ipython",
    "version": 3
   },
   "file_extension": ".py",
   "mimetype": "text/x-python",
   "name": "python",
   "nbconvert_exporter": "python",
   "pygments_lexer": "ipython3",
   "version": "3.8.10"
  }
 },
 "nbformat": 4,
 "nbformat_minor": 4
}
