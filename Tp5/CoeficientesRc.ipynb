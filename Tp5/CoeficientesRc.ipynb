{
 "cells": [
  {
   "cell_type": "markdown",
   "metadata": {},
   "source": [
    "# Creación de LUT de coeficientes "
   ]
  },
  {
   "cell_type": "code",
   "execution_count": 1,
   "metadata": {},
   "outputs": [],
   "source": [
    "import numpy as np\n",
    "import matplotlib.pyplot as plt\n",
    "import tool.ff_model  as fm\n",
    "from tool._fixedInt import * \n",
    "from tool.DSPtools import *"
   ]
  },
  {
   "cell_type": "code",
   "execution_count": 2,
   "metadata": {},
   "outputs": [],
   "source": [
    "clk = 100e6                 #Clock Freq.  \n",
    "N = 4                       #Oversampling \n",
    "BR = clk / N                #Baud Rate \n",
    "rolloff = 0.5               \n",
    "fs = N*BR                   #Sample Freq. \n",
    "Ts = 1/fs                   #Sample T. \n",
    "T = 1/BR                    #Symbol sep \n",
    "M = 2                       #Symbols (levels) \n",
    "Nsymb = 1e3                 #Simulation Length \n",
    "NB = 6                      #RC taps\n",
    "PRBSn = 9                   #PRBS order"
   ]
  },
  {
   "cell_type": "code",
   "execution_count": 3,
   "metadata": {},
   "outputs": [
    {
     "name": "stdout",
     "output_type": "stream",
     "text": [
      "[0.0, 0.0078125, 0.015625, 0.0234375, 0.0, -0.0546875, -0.1171875, -0.125, 0.0, 0.265625, 0.6015625, 0.890625, 0.9921875, 0.890625, 0.6015625, 0.265625, 0.0, -0.125, -0.1171875, -0.0546875, 0.0, 0.0234375, 0.015625, 0.0078125, 0.0]\n",
      "127\n"
     ]
    }
   ],
   "source": [
    "(t,h) = rcosine(rolloff,T,N,NB,Norm=False)\n",
    "#Cuantizo \n",
    "Fp = arrayFixedInt(8,7, h,'S', \n",
    "    roundMode='round', saturateMode='saturate')\n",
    "hFp = [FixedPintValue.fValue for FixedPintValue in Fp]\n",
    "print(hFp)\n",
    "print(Fp[12].intvalue)\n"
   ]
  },
  {
   "cell_type": "code",
   "execution_count": 7,
   "metadata": {},
   "outputs": [],
   "source": [
    "def CreateLutVerilog(coffs, NB, N,FileName,DEC=0,intWidht=8): \n",
    "    LutFile = open(FileName,'w')\n",
    "    if (not DEC):\n",
    "        for mux in range(NB): \n",
    "            for coefOp in range(N):\n",
    "                numCoef = coefOp + mux*N\n",
    "                cofBin = bin(coffs[numCoef].intvalue)[2:]\n",
    "                cofBin = cofBin.zfill(intWidht) \n",
    "                cofBin = str(intWidht)+\"'b\"+ str(cofBin)\n",
    "                comment= \"Reg{}, Mux Input {} =  h{}\".format(mux,coefOp,numCoef)\n",
    "                print(\"assign coef[{}][{}] = {}; \\t /* {} */\".format(mux,coefOp,cofBin,comment))\n",
    "                LutFile.write(\"assign coef[{}][{}] = {}; \\t /* {} */\".format(mux,coefOp,cofBin,comment))\n",
    "                LutFile.write(\"\\n\")                                                  \n",
    "    \n",
    "    LutFile.close()\n"
   ]
  },
  {
   "cell_type": "code",
   "execution_count": 8,
   "metadata": {},
   "outputs": [
    {
     "name": "stdout",
     "output_type": "stream",
     "text": [
      "assign coef[0][0] = 8'b00000000; \t /* Reg0, Mux Input 0 =  h0 */\n",
      "assign coef[0][1] = 8'b00000001; \t /* Reg0, Mux Input 1 =  h1 */\n",
      "assign coef[0][2] = 8'b00000010; \t /* Reg0, Mux Input 2 =  h2 */\n",
      "assign coef[0][3] = 8'b00000011; \t /* Reg0, Mux Input 3 =  h3 */\n",
      "assign coef[1][0] = 8'b00000000; \t /* Reg1, Mux Input 0 =  h4 */\n",
      "assign coef[1][1] = 8'b11111001; \t /* Reg1, Mux Input 1 =  h5 */\n",
      "assign coef[1][2] = 8'b11110001; \t /* Reg1, Mux Input 2 =  h6 */\n",
      "assign coef[1][3] = 8'b11110000; \t /* Reg1, Mux Input 3 =  h7 */\n",
      "assign coef[2][0] = 8'b00000000; \t /* Reg2, Mux Input 0 =  h8 */\n",
      "assign coef[2][1] = 8'b00100010; \t /* Reg2, Mux Input 1 =  h9 */\n",
      "assign coef[2][2] = 8'b01001101; \t /* Reg2, Mux Input 2 =  h10 */\n",
      "assign coef[2][3] = 8'b01110010; \t /* Reg2, Mux Input 3 =  h11 */\n",
      "assign coef[3][0] = 8'b01111111; \t /* Reg3, Mux Input 0 =  h12 */\n",
      "assign coef[3][1] = 8'b01110010; \t /* Reg3, Mux Input 1 =  h13 */\n",
      "assign coef[3][2] = 8'b01001101; \t /* Reg3, Mux Input 2 =  h14 */\n",
      "assign coef[3][3] = 8'b00100010; \t /* Reg3, Mux Input 3 =  h15 */\n",
      "assign coef[4][0] = 8'b00000000; \t /* Reg4, Mux Input 0 =  h16 */\n",
      "assign coef[4][1] = 8'b11110000; \t /* Reg4, Mux Input 1 =  h17 */\n",
      "assign coef[4][2] = 8'b11110001; \t /* Reg4, Mux Input 2 =  h18 */\n",
      "assign coef[4][3] = 8'b11111001; \t /* Reg4, Mux Input 3 =  h19 */\n",
      "assign coef[5][0] = 8'b00000000; \t /* Reg5, Mux Input 0 =  h20 */\n",
      "assign coef[5][1] = 8'b00000011; \t /* Reg5, Mux Input 1 =  h21 */\n",
      "assign coef[5][2] = 8'b00000010; \t /* Reg5, Mux Input 2 =  h22 */\n",
      "assign coef[5][3] = 8'b00000001; \t /* Reg5, Mux Input 3 =  h23 */\n"
     ]
    }
   ],
   "source": [
    "CreateLutVerilog(Fp,NB,N,\"./coffs.v\")"
   ]
  }
 ],
 "metadata": {
  "kernelspec": {
   "display_name": "Python 3",
   "language": "python",
   "name": "python3"
  },
  "language_info": {
   "codemirror_mode": {
    "name": "ipython",
    "version": 3
   },
   "file_extension": ".py",
   "mimetype": "text/x-python",
   "name": "python",
   "nbconvert_exporter": "python",
   "pygments_lexer": "ipython3",
   "version": "3.8.10"
  }
 },
 "nbformat": 4,
 "nbformat_minor": 4
}
