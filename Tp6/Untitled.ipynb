{
 "cells": [
  {
   "cell_type": "markdown",
   "metadata": {},
   "source": [
    "\n",
    "La parte de la trama de **data** se utiliza para enviar el puerto <GPIO ID> y la parte de **device** para indicar si se desea escribir o leer el puerto indicado \n",
    "\n",
    "* device = 0: LEDs \n",
    "* device = 1: Switches \n",
    "\n",
    "```c\n",
    "#define def_READ      0\n",
    "#define def_WRITE     1\n",
    "```\n",
    "    \n",
    "```  \n",
    "Ingrese un comando: 0R1\n",
    "[b'\\xa3', b'\\x00', b'\\x00', b'\\x01', '0', 'R', '1', b'C']\n",
    "\n",
    " Ingrese un comando: 2G0\n",
    "[b'\\xa3', b'\\x00', b'\\x00', b'\\x01', '2', 'G', '0', b'C']```"
   ]
  },
  {
   "cell_type": "markdown",
   "metadata": {},
   "source": [
    "|    Trama     |      Byte         |     Significado   |    Valor        |\n",
    "|:------------:|:-----------------:|:------------------:|:--------------:|\n",
    "| Cabecera     |      Byte 1       |   Init (3b)        |    101         |\n",
    "| Cabecera     |      Byte 1       |   Tipo  (1b)       |    1/0         |\n",
    "| Cabecear     |      Byte 1       |   Size (4b)        |  *DataSize*    |\n",
    "| Cabecera     |      Byte 2       |   Size MSBits      |*Long DataSize* |\n",
    "| Cabecera     |      Byte 3       |   Size LSBits      |*Long DataSize* |\n",
    "| Cabecera     |      Byte 4       |   Device           |*READ/WRITE* 1/0|          \n",
    "| Data         |     *N* Bytes     |   Data             |   *Data*       |\n",
    "| Fin Trama    |      Byte 1       |   End (3b)         |    010         |\n",
    "| Fin Trama    |      Byte 1       |   Tipo (1b)        |    1/0         |\n",
    "| Fin Trama    |      Byte 1       |   Size (4b)        |  *DataSize*    |\n",
    "\n"
   ]
  },
  {
   "cell_type": "markdown",
   "metadata": {},
   "source": [
    " * Hago una AND entre el color y el numero del LED para poder prender ese determinado y implementarlo como un switch case, \n",
    "    para no tener que comparar una cadena de caracteres caracter a caracter que lleva mas tiempo \n",
    "    \n",
    "    ```c\n",
    "    LED_ID = *(frame + FRAME_HEAD_L+1) & *(frame + FRAME_HEAD_L+2);```\n",
    "    \n",
    "    \n",
    "    "
   ]
  },
  {
   "cell_type": "markdown",
   "metadata": {},
   "source": [
    "La función `DiscreRead` no devuelve lo que tendría que devolver, por lo que se hace una OR de la máscara antes seleccionada con la nueva. Para que se los LEDs ya encendidos no se apaguen. \n",
    "\n",
    "Para lograr encender cualquier combinación de LEDs se utilizaron 2 variables de 32 bits para enmascarar el estado de los LEDs y encender o apagar únicamente el indicado por comando. \n",
    "\n",
    "```c \n",
    "switch(LED_ID){\n",
    "    case (R0):{\tGPO_Mask = GPO_Mask | LED0_R; GPO_SEL = LED0_R; break;}\n",
    "    case (G0):{\tGPO_Mask = GPO_Mask | LED0_G; GPO_SEL = LED0_G; break;}\n",
    "    case (B0):{\tGPO_Mask = GPO_Mask | LED0_B; GPO_SEL = LED0_B; break;}\n",
    "\n",
    "    case (R1):{\tGPO_Mask = GPO_Mask | LED1_R; GPO_SEL = LED1_R; break;}\n",
    "\tcase (G1):{\tGPO_Mask = GPO_Mask | LED1_G; GPO_SEL = LED1_G; break;}\n",
    "    case (B1):{\tGPO_Mask = GPO_Mask | LED1_B; GPO_SEL = LED1_B; break;}\n",
    "\n",
    "    case (R2):{\tGPO_Mask = GPO_Mask | LED2_R; GPO_SEL = LED2_R; break;}\n",
    "    case (G2):{\tGPO_Mask = GPO_Mask | LED2_G; GPO_SEL = LED2_G; break;}\n",
    "    case (B2):{\tGPO_Mask = GPO_Mask | LED2_B; GPO_SEL = LED2_B; break;}\n",
    "\n",
    "    case (R3):{\tGPO_Mask = GPO_Mask | LED3_R; GPO_SEL = LED3_R; break;}\n",
    "    case (G3):{\tGPO_Mask = GPO_Mask | LED3_G; GPO_SEL = LED3_G; break;}\n",
    "    case (B3):{\tGPO_Mask = GPO_Mask | LED3_B; GPO_SEL = LED3_B; break;}\n",
    "\n",
    "    default:GPO_Mask = 0x00000000;} \n",
    "\n",
    "if (*(frame + FRAME_HEAD_L+3) == GPIO_HIGH)\n",
    "  \tXGpio_DiscreteWrite(&GpioOutput,1, (GPO_Mask));\n",
    "else{\n",
    "\tGPO_Mask = ~GPO_SEL & GPO_Mask;\n",
    "    XGpio_DiscreteWrite(&GpioOutput,1, (GPO_Mask));}\n",
    "      \t\t\t    \n",
    "```"
   ]
  },
  {
   "cell_type": "code",
   "execution_count": null,
   "metadata": {},
   "outputs": [],
   "source": []
  }
 ],
 "metadata": {
  "kernelspec": {
   "display_name": "Python 3",
   "language": "python",
   "name": "python3"
  },
  "language_info": {
   "codemirror_mode": {
    "name": "ipython",
    "version": 3
   },
   "file_extension": ".py",
   "mimetype": "text/x-python",
   "name": "python",
   "nbconvert_exporter": "python",
   "pygments_lexer": "ipython3",
   "version": "3.8.10"
  }
 },
 "nbformat": 4,
 "nbformat_minor": 4
}
