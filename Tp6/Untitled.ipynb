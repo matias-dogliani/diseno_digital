{
 "cells": [
  {
   "cell_type": "markdown",
   "metadata": {},
   "source": [
    "\n",
    "La parte de la trama de **data** se utiliza para enviar el puerto <GPIO ID> y la parte de **device** para indicar si se desea escribir o leer el puerto indicado \n",
    "\n",
    "* device = 0: LEDs \n",
    "* device = 1: Switches \n",
    "\n",
    "```\n",
    "#define def_READ      0\n",
    "#define def_WRITE     1\n",
    "```\n",
    "    \n",
    "```  \n",
    "Ingrese un comando: 0R1\n",
    "[b'\\xa3', b'\\x00', b'\\x00', b'\\x01', '0', 'R', '1', b'C']\n",
    "\n",
    " Ingrese un comando: 2G0\n",
    "[b'\\xa3', b'\\x00', b'\\x00', b'\\x01', '2', 'G', '0', b'C']\n",
    "\n",
    " Ingrese un comando: 2\n",
    "[b'\\xa1', b'\\x00', b'\\x00', b'\\x00', '2', b'A']```"
   ]
  },
  {
   "cell_type": "markdown",
   "metadata": {},
   "source": [
    "|    Trama     |      Byte         |     Significado   |    Valor        |\n",
    "|:------------:|:-----------------:|:------------------:|:--------------:|\n",
    "| Cabecera     |      Byte 1       |   Init (3b)        |    101         |\n",
    "| Cabecera     |      Byte 1       |   Tipo  (1b)       |    1/0         |\n",
    "| Cabecear     |      Byte 1       |   Size (4b)        |  *DataSize*    |\n",
    "| Cabecera     |      Byte 2       |   Size MSBits      |*Long DataSize* |\n",
    "| Cabecera     |      Byte 3       |   Size LSBits      |*Long DataSize* |\n",
    "| Cabecera     |      Byte 4       |   Device           |*READ/WRITE* 1/0|          \n",
    "| Data         |     *N* Bytes     |   Data             |   *Data*       |\n",
    "| Fin Trama    |      Byte 1       |   End (3b)         |    010         |\n",
    "| Fin Trama    |      Byte 1       |   Tipo (1b)        |    1/0         |\n",
    "| Fin Trama    |      Byte 1       |   Size (4b)        |  *DataSize*    |\n",
    "\n"
   ]
  }
 ],
 "metadata": {
  "kernelspec": {
   "display_name": "Python 3",
   "language": "python",
   "name": "python3"
  },
  "language_info": {
   "codemirror_mode": {
    "name": "ipython",
    "version": 3
   },
   "file_extension": ".py",
   "mimetype": "text/x-python",
   "name": "python",
   "nbconvert_exporter": "python",
   "pygments_lexer": "ipython3",
   "version": "3.8.10"
  }
 },
 "nbformat": 4,
 "nbformat_minor": 4
}
