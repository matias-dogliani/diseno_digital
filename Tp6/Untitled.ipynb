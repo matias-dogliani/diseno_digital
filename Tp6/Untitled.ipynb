{
 "cells": [
  {
   "cell_type": "markdown",
   "metadata": {},
   "source": [
    "\n",
    "La parte de la trama de **data** se utiliza para enviar el puerto <GPIO ID> y la parte de **device** para indicar si se desea escribir o leer el puerto indicado \n",
    "\n",
    "* device = 0: LEDs \n",
    "* device = 1: Switches \n",
    "\n",
    "```c\n",
    "#define def_READ      0\n",
    "#define def_WRITE     1\n",
    "```\n",
    "    \n",
    "```  \n",
    "Ingrese un comando: 0R1\n",
    "[b'\\xa3', b'\\x00', b'\\x00', b'\\x01', '0', 'R', '1', b'C']\n",
    "\n",
    " Ingrese un comando: 2G0\n",
    "[b'\\xa3', b'\\x00', b'\\x00', b'\\x01', '2', 'G', '0', b'C']```"
   ]
  },
  {
   "cell_type": "markdown",
   "metadata": {},
   "source": [
    "|    Trama     |      Byte         |     Significado   |    Valor        |\n",
    "|:------------:|:-----------------:|:------------------:|:--------------:|\n",
    "| Cabecera     |      Byte 1       |   Init (3b)        |    101         |\n",
    "| Cabecera     |      Byte 1       |   Tipo  (1b)       |    1/0         |\n",
    "| Cabecear     |      Byte 1       |   Size (4b)        |  *DataSize*    |\n",
    "| Cabecera     |      Byte 2       |   Size MSBits      |*Long DataSize* |\n",
    "| Cabecera     |      Byte 3       |   Size LSBits      |*Long DataSize* |\n",
    "| Cabecera     |      Byte 4       |   Device           |*READ/WRITE* 1/0|          \n",
    "| Data         |     *N* Bytes     |   Data             |   *Data*       |\n",
    "| Fin Trama    |      Byte 1       |   End (3b)         |    010         |\n",
    "| Fin Trama    |      Byte 1       |   Tipo (1b)        |    1/0         |\n",
    "| Fin Trama    |      Byte 1       |   Size (4b)        |  *DataSize*    |\n",
    "\n"
   ]
  },
  {
   "cell_type": "markdown",
   "metadata": {},
   "source": [
    " * Hago una AND entre el color y el numero del LED para poder prender ese determinado y implementarlo como un switch case, \n",
    "    para no tener que comparar una cadena de caracteres caracter a caracter que lleva mas tiempo \n",
    "    \n",
    "    ```c\n",
    "    LED_ID = *(frame + FRAME_HEAD_L+1) & *(frame + FRAME_HEAD_L+2);```\n",
    "    \n",
    "    \n",
    "    "
   ]
  },
  {
   "cell_type": "markdown",
   "metadata": {},
   "source": [
    "La función `DiscreRead` no devuelve lo que tendría que devolver, por lo que se hace una OR de la máscara antes seleccionada con la nueva. Para que se los LEDs ya encendidos no se apaguen "
   ]
  },
  {
   "cell_type": "code",
   "execution_count": null,
   "metadata": {},
   "outputs": [],
   "source": []
  }
 ],
 "metadata": {
  "kernelspec": {
   "display_name": "Python 3",
   "language": "python",
   "name": "python3"
  },
  "language_info": {
   "codemirror_mode": {
    "name": "ipython",
    "version": 3
   },
   "file_extension": ".py",
   "mimetype": "text/x-python",
   "name": "python",
   "nbconvert_exporter": "python",
   "pygments_lexer": "ipython3",
   "version": "3.8.10"
  }
 },
 "nbformat": 4,
 "nbformat_minor": 4
}
