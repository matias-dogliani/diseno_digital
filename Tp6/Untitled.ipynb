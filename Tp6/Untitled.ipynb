{
 "cells": [
  {
   "cell_type": "markdown",
   "metadata": {},
   "source": [
    "\n",
    "La parte de la trama de **data** se utiliza para enviar el puerto <GPIO ID> y la parte de **device** para indicar si se desea escribir o leer el puerto indicado \n",
    "    \n",
    "\n",
    "```  \n",
    "Ingrese un comando: 0R1\n",
    "[b'\\xa3', b'\\x00', b'\\x00', b'\\x01', '0', 'R', '1', b'C']\n",
    "\n",
    " Ingrese un comando: 2G0\n",
    "[b'\\xa3', b'\\x00', b'\\x00', b'\\x01', '2', 'G', '0', b'C']\n",
    "\n",
    " Ingrese un comando: 2\n",
    "[b'\\xa1', b'\\x00', b'\\x00', b'\\x00', '2', b'A']```"
   ]
  },
  {
   "cell_type": "code",
   "execution_count": null,
   "metadata": {},
   "outputs": [],
   "source": []
  }
 ],
 "metadata": {
  "kernelspec": {
   "display_name": "Python 3",
   "language": "python",
   "name": "python3"
  },
  "language_info": {
   "codemirror_mode": {
    "name": "ipython",
    "version": 3
   },
   "file_extension": ".py",
   "mimetype": "text/x-python",
   "name": "python",
   "nbconvert_exporter": "python",
   "pygments_lexer": "ipython3",
   "version": "3.8.10"
  }
 },
 "nbformat": 4,
 "nbformat_minor": 4
}
