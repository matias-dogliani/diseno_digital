{
 "cells": [
  {
   "cell_type": "markdown",
   "metadata": {},
   "source": [
    "# Trabajo Práctico Nº 1 \n",
    "\n",
    "Operaciones con variables y gráficos en python \n",
    "\n",
    "## Ejercicio 1\n",
    "\n",
    "Calculadora "
   ]
  },
  {
   "cell_type": "code",
   "execution_count": 15,
   "metadata": {
    "scrolled": true
   },
   "outputs": [],
   "source": [
    "  def menu():                                                                 \n",
    "                                                                                \n",
    "    print('1 - Sumar',                                                          \n",
    "          '2 - Restar',                                                         \n",
    "          '3 - Multiplicar',                                                    \n",
    "          '4 - Dividir',                                                        \n",
    "          '5 - Iterativo',                                                      \n",
    "          '6  - Producto punto'\n",
    "          '7 - Graficar', sep = '\\n')                                          \n",
    "                                                                                \n",
    "    op = int(input('Elija una ocpion: '))                                       \n",
    "                                                                                \n",
    "                                                                                \n",
    "    if (op == 1):                                                               \n",
    "         suma()                                                                 \n",
    "                                                                                \n",
    "    elif (op == 2):                                                             \n",
    "         resta()                                                                \n",
    "                                                                                \n",
    "    elif (op == 3):                                                             \n",
    "          mult()                                                                \n",
    "                                                                                \n",
    "    elif (op == 4):                                                             \n",
    "        dividir()                                                               \n",
    "                                                                                \n",
    "    elif (op == 5):                                                             \n",
    "        iterativo()                                                             \n",
    "                                                                                \n",
    "    elif (op == 6):                                                             \n",
    "         producto_p()                                                              \n",
    "                                                                                \n",
    "def suma():                                                                     \n",
    "                                                                                \n",
    "    a,b = input('Ingrese dos numeros para sumar:  ').split()                    \n",
    "    print('Resultado  = ', int(a) + int(b)  )                                   \n",
    "                                                                                \n",
    "def resta():                                                                    \n",
    "                                                                                \n",
    "    a,b = input('Ingrese dos numeros para restar: ').split()                    \n",
    "    print('Resultado  = ', int(a) - int(b)  )                                   \n",
    "                                                                                \n",
    "def mult():                                                                     \n",
    "                                                                                \n",
    "    a,b = input('Ingrese dos numeros para multiplicar: ').split()               \n",
    "    print('Resultado  = ', int(a) * int(b)  )                                   \n",
    "                                                                                \n",
    "                                                                                \n",
    "def dividirv():                                                                 \n",
    "                                                                                \n",
    "    a,b = input('Ingrese dos numeros para dividir: ').split()                   \n",
    "    print('Resultado  = {:.2f}'.format(int(a) / int(b)))      \n",
    "def iterativo():                                                                \n",
    "                                                                                \n",
    "    step = int(input('Ingrese el paso: '))                                      \n",
    "    i = int(input('Ingrese las iteraciones: '))                                 \n",
    "                                                                                \n",
    "    a=0                                                                         \n",
    "    b=0                                                                         \n",
    "    c=1                                                                         \n",
    "                                                                                \n",
    "    while(i>0):                                                                 \n",
    "        a += step                                                               \n",
    "        b -= step                                                               \n",
    "        c *= step                                                               \n",
    "        i-=1                                                                    \n",
    "    print('a = {}  b = {}  c = {} \\n '.format(a,b,c))                           \n",
    "                                                                    \n",
    "             "
   ]
  },
  {
   "cell_type": "code",
   "execution_count": 3,
   "metadata": {},
   "outputs": [
    {
     "name": "stdout",
     "output_type": "stream",
     "text": [
      "1 - Sumar\n",
      "2 - Restar\n",
      "3 - Multiplicar\n",
      "4 - Dividir\n",
      "5 - Iterativo\n",
      "6  - Producto punto\n",
      "Elija una ocpion: 1\n",
      "Ingrese dos numeros para sumar:  4 5 \n",
      "Resultado  =  9\n"
     ]
    }
   ],
   "source": [
    "menu() "
   ]
  },
  {
   "cell_type": "markdown",
   "metadata": {},
   "source": [
    "## Ejercicio 2 \n",
    "\n",
    "Se consulta si se desae continuar realizando operaciones y se agrega la operacion de producto punto de matrices \n"
   ]
  },
  {
   "cell_type": "code",
   "execution_count": 13,
   "metadata": {},
   "outputs": [],
   "source": [
    "import numpy as np                                                              \n",
    "                                                                                \n",
    "def producto_p(): \n",
    "    op =1\n",
    "    while(op):\n",
    "        F1 = int(input(\"Numero de filas de matriz 1 : \"))                           \n",
    "        C1 = int(input(\"Numero de columnas matriz 1 : \"))                                                                                                           \n",
    "        print(\"Ingresar matriz por filas, separado por espacio \")                       \n",
    "        elementos = list(map(int, input().split()))                                     \n",
    "        matriz1 = np.array(elementos).reshape(F1, C1)                               \n",
    "                                                                                \n",
    "        F2 = int(input(\"Numero de filas de matriz 2 : \"))                               \n",
    "        C2 = int(input(\"Numero de columnas matriz 2:  \")) \n",
    "        print(\"Ingresar matriz por filas, separado por espacio \")                       \n",
    "        elementos = list(map(int, input().split()))                                     \n",
    "        matriz2= np.array(elementos).reshape(F2, C2)                                \n",
    "                                                    \n",
    "                                                                                \n",
    "        if (matriz1.shape != matriz2.shape):                                              \n",
    "            print(\"No se puede realizar la operacion\",                              \n",
    "              \"las matrices deben tener el mismo tamaño\")\n",
    "        else: \n",
    "            break                                                                            \n",
    "                                  \n",
    "    print(\"Resultado = \", matriz1*matriz2)                                                                                       \n"
   ]
  },
  {
   "cell_type": "code",
   "execution_count": 14,
   "metadata": {},
   "outputs": [
    {
     "name": "stdout",
     "output_type": "stream",
     "text": [
      " 1 - Continuar calculando \n",
      " 2 - Terminar \n",
      " Elija una opcion: 1\n",
      "1 - Sumar\n",
      "2 - Restar\n",
      "3 - Multiplicar\n",
      "4 - Dividir\n",
      "5 - Iterativo\n",
      "6  - Producto punto\n",
      "Elija una ocpion: 6\n",
      "Numero de filas de matriz 1 : 3\n",
      "Numero de columnas matriz 1 : 3\n",
      "Ingresar matriz por filas, separado por espacio \n",
      "1 2 3 4 5 6 7 8 9 \n",
      "Numero de filas de matriz 2 : 2\n",
      "Numero de columnas matriz 2:  2\n",
      "Ingresar matriz por filas, separado por espacio \n",
      "1 2 3 4 \n",
      "No se puede realizar la operacion las matrices deben tener el mismo tamaño\n",
      "Numero de filas de matriz 1 : 2 \n",
      "Numero de columnas matriz 1 : 2\n",
      "Ingresar matriz por filas, separado por espacio \n",
      "1 2 3 4 \n",
      "Numero de filas de matriz 2 : 2 \n",
      "Numero de columnas matriz 2:  2 \n",
      "Ingresar matriz por filas, separado por espacio \n",
      "4 5 6 7 \n",
      "Resultado =  [[ 4 10]\n",
      " [18 28]]\n",
      " 1 - Continuar calculando \n",
      " 2 - Terminar \n",
      " Elija una opcion: 2\n"
     ]
    }
   ],
   "source": [
    "def main(): \n",
    "    while(1):\n",
    "        print(' 1 - Continuar calculando \\n', \n",
    "            '2 - Terminar ')\n",
    "        cc = int(input(' Elija una opcion: '))\n",
    "        if (cc == 1): \n",
    "            menu()\n",
    "        else: \n",
    "            return \n",
    "main()"
   ]
  },
  {
   "cell_type": "markdown",
   "metadata": {},
   "source": [
    "## Ejercicio 3 \n",
    "\n",
    "Se agrega una opción de graficar datos ingresados por el usuario y datos extraidos de un archivo"
   ]
  },
  {
   "cell_type": "code",
   "execution_count": 16,
   "metadata": {},
   "outputs": [],
   "source": [
    "import matplotlib.pylot as plt   \n",
    "def graficar_plot(): \n",
    "    print(\"Grafico y vs x \")\n",
    "    "
   ]
  },
  {
   "cell_type": "code",
   "execution_count": null,
   "metadata": {},
   "outputs": [],
   "source": [
    "def graficar():                                                                    \n",
    "    print(  ' a - Plot',                                                           \n",
    "            ' b - Stem',                                                           \n",
    "            ' c - Histograma',                                                     \n",
    "            ' d - FFT plot',                                                       \n",
    "            ' e - File plot', sep = '/n')                                          \n",
    "                                                                                   \n",
    "    op = input('Elija una opcion')                                                 \n",
    "                                                                                   \n",
    "    if ( op == 'a'):                                                               \n",
    "        graficar_plot()                                                            \n",
    "        return                                                                     \n",
    "    elif (op == 'b'):                                                              \n",
    "        graficar_stem()                                                            \n",
    "        return                                                                     \n",
    "    elif (op == 'c'):                                                              \n",
    "        graficar_hist()                                                            \n",
    "        return                                                                     \n",
    "    elif (op == 'd'):                                                              \n",
    "        graficar_fft()                                                             \n",
    "        return                                                                     \n",
    "    elif (op == 'e'):                                                              \n",
    "        graficar_filePlot()                                                        \n",
    "        return                                                                     \n",
    "                                                                                   \n",
    "~                        "
   ]
  }
 ],
 "metadata": {
  "kernelspec": {
   "display_name": "Python 3",
   "language": "python",
   "name": "python3"
  },
  "language_info": {
   "codemirror_mode": {
    "name": "ipython",
    "version": 3
   },
   "file_extension": ".py",
   "mimetype": "text/x-python",
   "name": "python",
   "nbconvert_exporter": "python",
   "pygments_lexer": "ipython3",
   "version": "3.8.5"
  }
 },
 "nbformat": 4,
 "nbformat_minor": 4
}
