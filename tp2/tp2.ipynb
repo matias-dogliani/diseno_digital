{
 "cells": [
  {
   "cell_type": "markdown",
   "metadata": {},
   "source": [
    "# Trabajo práctico Nº 2 \n",
    "\n",
    "Manejo de puerto serie "
   ]
  },
  {
   "cell_type": "markdown",
   "metadata": {},
   "source": [
    "* Comenzamos primero cargando la función de calculadora del práctico anterior "
   ]
  },
  {
   "cell_type": "code",
   "execution_count": 16,
   "metadata": {},
   "outputs": [],
   "source": [
    "import numpy as np\n",
    "\n",
    "def calculadora(): \n",
    "     while(1):\n",
    "        print(' 1 - Calcular \\n', \n",
    "            '2 - Terminar ')\n",
    "        cc = int(input(' Elija una opcion: '))\n",
    "        if (cc == 1): \n",
    "            menu()\n",
    "        else: \n",
    "            return \n",
    "\n",
    "def menu():                                                                 \n",
    "                                                                                \n",
    "    print('1 - Sumar',                                                          \n",
    "          '2 - Restar',                                                         \n",
    "          '3 - Multiplicar',                                                    \n",
    "          '4 - Dividir',                                                        \n",
    "          '5 - Iterativo',                                                      \n",
    "          '6  - Producto punto', sep = '\\n')                                          \n",
    "                                                                                \n",
    "    op = int(input('Elija una ocpion: '))                                       \n",
    "                                                                                \n",
    "                                                                                \n",
    "    if (op == 1):                                                               \n",
    "         suma()                                                                 \n",
    "                                                                                \n",
    "    elif (op == 2):                                                             \n",
    "         resta()                                                                \n",
    "                                                                                \n",
    "    elif (op == 3):                                                             \n",
    "          mult()                                                                \n",
    "                                                                                \n",
    "    elif (op == 4):                                                             \n",
    "        dividir()                                                               \n",
    "                                                                                \n",
    "    elif (op == 5):                                                             \n",
    "        iterativo()                                                             \n",
    "                                                                                \n",
    "    elif (op == 6):                                                             \n",
    "         producto_p()                                                              \n",
    "                                                                                \n",
    "def suma():                                                                     \n",
    "                                                                                \n",
    "    a,b = input('Ingrese dos numeros para sumar:  ').split()                    \n",
    "    print('Resultado  = ', int(a) + int(b)  )                                   \n",
    "                                                                                \n",
    "def resta():                                                                    \n",
    "                                                                                \n",
    "    a,b = input('Ingrese dos numeros para restar: ').split()                    \n",
    "    print('Resultado  = ', int(a) - int(b)  )                                   \n",
    "                                                                                \n",
    "def mult():                                                                     \n",
    "                                                                                \n",
    "    a,b = input('Ingrese dos numeros para multiplicar: ').split()               \n",
    "    print('Resultado  = ', int(a) * int(b)  )                                   \n",
    "                                                                                \n",
    "                                                                                \n",
    "def dividir():                                                                 \n",
    "                                                                                \n",
    "    a,b = input('Ingrese dos numeros para dividir: ').split()                   \n",
    "    print('Resultado  = {:.2f}'.format(int(a) / int(b)))      \n",
    "def iterativo():                                                                \n",
    "                                                                                \n",
    "    step = int(input('Ingrese el paso: '))                                      \n",
    "    i = int(input('Ingrese las iteraciones: '))                                 \n",
    "                                                                                \n",
    "    a=0                                                                         \n",
    "    b=0                                                                         \n",
    "    c=1                                                                         \n",
    "                                                                                \n",
    "    while(i>0):                                                                 \n",
    "        a += step                                                               \n",
    "        b -= step                                                               \n",
    "        c *= step                                                               \n",
    "        i-=1                                                                    \n",
    "    print('a = {}  b = {}  c = {} \\n '.format(a,b,c))     \n",
    "    \n",
    "                                                            \n",
    "                                                                                \n",
    "def producto_p(): \n",
    "    op =1\n",
    "    while(op):\n",
    "        F1 = int(input(\"Numero de filas de matriz 1 : \"))                           \n",
    "        C1 = int(input(\"Numero de columnas matriz 1 : \"))                                                                                                           \n",
    "        print(\"Ingresar matriz por filas, separado por espacio \")                       \n",
    "        elementos = list(map(int, input().split()))                                     \n",
    "        matriz1 = np.array(elementos).reshape(F1, C1)                               \n",
    "                                                                                \n",
    "        F2 = int(input(\"Numero de filas de matriz 2 : \"))                               \n",
    "        C2 = int(input(\"Numero de columnas matriz 2:  \")) \n",
    "        print(\"Ingresar matriz por filas, separado por espacio \")                       \n",
    "        elementos = list(map(int, input().split()))                                     \n",
    "        matriz2= np.array(elementos).reshape(F2, C2)                                \n",
    "                                                    \n",
    "                                                                                \n",
    "        if (matriz1.shape != matriz2.shape):                                              \n",
    "            print(\"No se puede realizar la operacion\",                              \n",
    "              \"las matrices deben tener el mismo tamaño\")\n",
    "        else: \n",
    "            break                                                                            \n",
    "                             \n",
    "    res = matriz1*matriz2 \n",
    "    guardar_archivo(matriz1,matriz2,res)\n",
    "    print(\"Resultado = \", res)                                                                                       \n",
    "\n",
    "def guardar_archivo(a,b,c):                                                          \n",
    "                                       \n",
    "    fd = open(\"./matrix.log\", \"w\")                                              \n",
    "    fd.write(\"Matriz a \\n\")    \n",
    "    for fila in a:                                                            \n",
    "         np.savetxt(fd,fila)                                                     \n",
    "    \n",
    "    fd.write(\"Matriz b \\n\")    \n",
    "    for fila in a:                                                            \n",
    "         np.savetxt(fd,fila)\n",
    "    \n",
    "    fd.write(\"Matriz resultado \\n\")    \n",
    "    for fila in a:                                                            \n",
    "         np.savetxt(fd,fila)\n",
    "    \n",
    "    fd.close()   "
   ]
  },
  {
   "cell_type": "markdown",
   "metadata": {},
   "source": [
    "Definimos la funcion graficar() "
   ]
  },
  {
   "cell_type": "code",
   "execution_count": 24,
   "metadata": {},
   "outputs": [],
   "source": [
    "import matplotlib.pyplot as plt \n",
    "def graficar(): \n",
    "    mu = 0  \n",
    "    sigma = 0.1\n",
    "    samples   = np.random.normal(mu, sigma, 30000)\n",
    "    plt.plot(samples)"
   ]
  },
  {
   "cell_type": "markdown",
   "metadata": {},
   "source": [
    "## Ejercicio a) \n",
    "\n",
    "Enviar por puerto un comando para que el recepetor ejecute la correspondiente acción \n",
    "\n",
    "1) Abrimos el puerto de tal forma que nos permita emular emisor y receptor"
   ]
  },
  {
   "cell_type": "code",
   "execution_count": 13,
   "metadata": {},
   "outputs": [],
   "source": [
    "import serial                                                                   \n",
    "                                                                                \n",
    "ser = serial.serial_for_url('loop://', timeout=1)                               \n",
    "                                                                                \n",
    "ser.timeout=None                                                                \n",
    "                                                                                \n",
    "ser.flushInput()                                                                \n",
    "ser.flushOutput()                                                               \n",
    "                  "
   ]
  },
  {
   "cell_type": "markdown",
   "metadata": {},
   "source": [
    "2) Configuramos el emisor con los comandos correspondientes "
   ]
  },
  {
   "cell_type": "code",
   "execution_count": 25,
   "metadata": {},
   "outputs": [
    {
     "name": "stdout",
     "output_type": "stream",
     "text": [
      "'Calculadora': Ejecuta calculadora\n",
      "'Graficar': Grafica un vector aleatorio\n",
      "'Salir': Finalizar programa\n",
      "Ingrese un comando: graficar\n"
     ]
    },
    {
     "data": {
      "text/plain": [
       "8"
      ]
     },
     "execution_count": 25,
     "metadata": {},
     "output_type": "execute_result"
    }
   ],
   "source": [
    "                                                                             \n",
    "comandos = ['CALCULADORA','GRAFICAR','SALIR']                                   \n",
    "data = ''                                                                       \n",
    "                                                                                \n",
    "while(1):                                                                       \n",
    "                                                                                \n",
    "    print(\"'Calculadora': Ejecuta calculadora\",                                 \n",
    "        \"'Graficar': Grafica un vector aleatorio\",                              \n",
    "        \"'Salir': Finalizar programa\",sep = '\\n')                               \n",
    "    data = input(\"Ingrese un comando: \")                                        \n",
    "                                                                                \n",
    "    if data.upper() in comandos:                                                 \n",
    "        break                                                                   \n",
    "    else:                                                                       \n",
    "        print(\"No existe el comando\", data,\"\\n\")                                \n",
    "                                                               \n",
    "                                                                        \n",
    "ser.write(data.encode())       "
   ]
  },
  {
   "cell_type": "markdown",
   "metadata": {},
   "source": [
    "3) Configuramos el emisor, para que según el comando enviado ejecute la acción correspondiente "
   ]
  },
  {
   "cell_type": "code",
   "execution_count": 27,
   "metadata": {},
   "outputs": [],
   "source": [
    "out = ''                                                                        \n",
    "while ser.inWaiting() > 0:                                                      \n",
    "    read_data = ser.read(1)                                                     \n",
    "    out += read_data.decode()                                                   \n",
    "                                                                                \n",
    "if out != '':                                                                   \n",
    "    print(\"Comando recibido >> \" + out) \n",
    "    \n",
    "if out.upper() == 'CALCULADORA' : \n",
    "    calculadora()\n",
    "elif out.upper() == \"GRAFICAR\": \n",
    "    graficar()\n",
    "elif out.upper() == \"SALIR\": \n",
    "    if ser.isOpen():                                                            \n",
    "        print(\"Programa terminado\")                                             \n",
    "        ser.close()                                                             \n",
    "    exit()                                                                      \n",
    "   "
   ]
  },
  {
   "cell_type": "markdown",
   "metadata": {},
   "source": [
    "## Ejercicio B \n",
    "\n",
    "Comunicación con trama definida: \n",
    "* Cabecera \n",
    "    * Datos \n",
    "    * Device \n",
    "* Fin de trama\n",
    "\n",
    "\n",
    "Como en python no existen campos de bits estrictamente, como sí en C, se puede usar una [libreria BitArray](https://pypi.org/project/bitarray/) \n",
    "\n"
   ]
  },
  {
   "cell_type": "markdown",
   "metadata": {},
   "source": [
    "1) Configuramos el emisor "
   ]
  },
  {
   "cell_type": "code",
   "execution_count": null,
   "metadata": {},
   "outputs": [],
   "source": [
    "                                                                             \n",
    "comandos = ['CALCULADORA','GRAFICAR','SALIR']                                   \n",
    "data = ''                                                                       \n",
    "                                                                                \n",
    "while(1):                                                                       \n",
    "                                                                                \n",
    "    print(\"'Calculadora': Ejecuta calculadora\",                                 \n",
    "        \"'Graficar': Grafica un vector aleatorio\",                              \n",
    "        \"'Salir': Finalizar programa\",sep = '\\n')                               \n",
    "    data = input(\"Ingrese un comando: \")                                        \n",
    "                                                                                \n",
    "    if data.upper() in comandos:                                                 \n",
    "        break                                                                   \n",
    "    else:                                                                       \n",
    "        print(\"No existe el comando\", data,\"\\n\")                                \n",
    "                                                               \n",
    "                                                                        \n",
    "ser.write(data.encode())  "
   ]
  }
 ],
 "metadata": {
  "kernelspec": {
   "display_name": "Python 3",
   "language": "python",
   "name": "python3"
  },
  "language_info": {
   "codemirror_mode": {
    "name": "ipython",
    "version": 3
   },
   "file_extension": ".py",
   "mimetype": "text/x-python",
   "name": "python",
   "nbconvert_exporter": "python",
   "pygments_lexer": "ipython3",
   "version": "3.8.5"
  }
 },
 "nbformat": 4,
 "nbformat_minor": 4
}
