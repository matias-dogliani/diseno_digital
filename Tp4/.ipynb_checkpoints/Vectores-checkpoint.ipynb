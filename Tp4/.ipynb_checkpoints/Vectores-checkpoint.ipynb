{
 "cells": [
  {
   "cell_type": "markdown",
   "metadata": {},
   "source": [
    "# Vector Matching Test Bench \n",
    "\n",
    "Se crean archivos con números en Fixed Point aleatorios para y se opera con ellos, para obtener patrones de entradas aleatorias para el test bench de los módulos y patrones conocidos de salidas para realizar un vector matching "
   ]
  },
  {
   "cell_type": "code",
   "execution_count": 19,
   "metadata": {},
   "outputs": [],
   "source": [
    "from tool._fixedInt import *    # Modulo de punto fijo de Fulgor \n",
    "from tool.DSPtools import * \n",
    "import numpy as np"
   ]
  },
  {
   "cell_type": "markdown",
   "metadata": {},
   "source": [
    "* Definimos una función que se encargue de crear las entradas aleatorias de un formato determinado "
   ]
  },
  {
   "cell_type": "code",
   "execution_count": 2,
   "metadata": {},
   "outputs": [],
   "source": [
    "def randFixedPointArray(intWidth=4,fractWidth=2,\n",
    "                        signedMode = 'S',roundMode='trunc',\n",
    "                        saturateMode='saturate',N=1000):\n",
    "    \n",
    "    Fp = DeFixedInt(intWidth,fractWidth,signedMode,roundMode,saturateMode)\n",
    "\n",
    "    Rv = Fp.Range()\n",
    "    values = np.random.uniform(Rv[0],Rv[1],N) #Dentro del rango como para no sature y sea \n",
    "                                                #Varios numeros iguales (maximo o minimo), \n",
    "                          \n",
    "\n",
    "    return arrayFixedInt(intWidth, fractWidth, values, signedMode, \n",
    "                         roundMode, saturateMode)"
   ]
  },
  {
   "cell_type": "markdown",
   "metadata": {},
   "source": [
    "* Definimos los N valoers de entradas: \n",
    "     * A : S(16,14) \n",
    "     * B : S(12.11) \n"
   ]
  },
  {
   "cell_type": "code",
   "execution_count": 3,
   "metadata": {},
   "outputs": [],
   "source": [
    "A = randFixedPointArray(16,14,'S')\n",
    "B = randFixedPointArray(12,11,'S')"
   ]
  },
  {
   "cell_type": "markdown",
   "metadata": {},
   "source": [
    " * Realizamos la sumas  **Full Resolution**"
   ]
  },
  {
   "cell_type": "code",
   "execution_count": 50,
   "metadata": {},
   "outputs": [],
   "source": [
    "SumaFullRes = A + B "
   ]
  },
  {
   "cell_type": "markdown",
   "metadata": {},
   "source": [
    " * Ahora operamos con este valor para obtener los diferentes formatos\n",
    "  \n",
    "     * S(11.10) con overflow y truncado\n",
    "     * S(11.10) con saturacion y truncado\n",
    "     * S(9.8) con saturación y redondeo\n",
    "     \n",
    " <span style=\"color:red\">**Nota**</span> : Se modificó la función *arrayFixedInt()* para que pueda tomar un valor de tipo *DeFixedInt* y reconvertirlo al formato especificado. \n",
    " \n",
    " De esta forma se puede **reconvertir arreglos** directamente.  \n",
    " Funciona para el caso de que se aplique truncado, o cualquier tipo de recorte. No se probó si se debe agregar bits, pero eso depende de la clase misma ya implementada.      "
   ]
  },
  {
   "cell_type": "code",
   "execution_count": 14,
   "metadata": {},
   "outputs": [],
   "source": [
    "SumOvTrunc = arrayFixedInt(11,10,SumaFullRes,'S','trunc','wrap')\n",
    "SumSatTrunc = arrayFixedInt(11,10,SumaFullRes,'S','trunc','saturate')\n",
    "SumSatRound = arrayFixedInt(9,8,SumaFullRes,'S','round','saturate')"
   ]
  },
  {
   "cell_type": "markdown",
   "metadata": {},
   "source": [
    "*  <span style=\"color:red\">**Comprabamos a grandes rasgos** </span> "
   ]
  },
  {
   "cell_type": "code",
   "execution_count": 18,
   "metadata": {},
   "outputs": [
    {
     "name": "stdout",
     "output_type": "stream",
     "text": [
      " Version 1 =  <-1017 (-0.993) S(11,10)> \n",
      " Version 2 =  <-1017 (-0.993) S(11,10)>\n",
      "\n",
      " Version 1 =  <1023 (0.999) S(11,10)> \n",
      " Version 2 =  <1023 (0.999) S(11,10)>\n",
      "\n",
      " Version 1 =  <255 (0.996) S(9,8)> \n",
      " Version 2 =  <255 (0.996) S(9,8)>\n"
     ]
    }
   ],
   "source": [
    "V1  = SumOvTrunc[4]  \n",
    "V2=DeFixedInt(11,10,'S','trunc','wrap')\n",
    "V2.assign(A[4] + B[4])\n",
    "\n",
    "print(\" Version 1 = \", V1,\n",
    "      \"\\n Version 2 = \", V2 )\n",
    "\n",
    "V1  = SumSatTrunc[4]  \n",
    "V2=DeFixedInt(11,10,'S','trunc','saturate')\n",
    "V2.assign(A[4] + B[4])\n",
    "\n",
    "print(\"\\n Version 1 = \", V1,\n",
    "      \"\\n Version 2 = \", V2 )\n",
    "\n",
    "\n",
    "V1  = SumSatRound[4]  \n",
    "V2=DeFixedInt(9,8,'S','round','saturate')\n",
    "V2.assign(A[4] + B[4])\n",
    "\n",
    "print(\"\\n Version 1 = \", V1,\n",
    "      \"\\n Version 2 = \", V2 )\n",
    "\n"
   ]
  },
  {
   "cell_type": "markdown",
   "metadata": {},
   "source": [
    "* Ahora, guardamos estos vectores de entrada A y B, y de salida Sum*Format* en archivos separados para poder trabajarlos en el testbench. \n",
    "\n"
   ]
  },
  {
   "cell_type": "code",
   "execution_count": 46,
   "metadata": {},
   "outputs": [],
   "source": [
    "def SaveBytesTbFile(FpValues,FileName):\n",
    "    TbFile  = open(FileName,'w')\n",
    "    for FpNum in FpValues:\n",
    "    \n",
    "        TbBin =bin(FpNum.intvalue)[2:]      #\"0b\" no me interesa \n",
    "        TbBin = TbBin.zfill(FpNum.width)    #Aveces bin() devuelve menos bits\n",
    "        TbBin = str(TbBin)\n",
    "        TbFile.write(TbBin)\n",
    "        TbFile.write(\"\\n\")\n",
    "    TbFile.close()"
   ]
  },
  {
   "cell_type": "code",
   "execution_count": 53,
   "metadata": {},
   "outputs": [],
   "source": [
    "SaveBytesTbFile(A,\"./A.in\")\n",
    "SaveBytesTbFile(B,\"./B.in\")\n",
    "SaveBytesTbFile(SumaFullRes,\"./SumFullRes.o\")\n",
    "SaveBytesTbFile(SumOvTrunc,\"./SumOvTrunc.o\")\n",
    "SaveBytesTbFile(SumSatTrunc,\"./SumSatTrunc.o\")\n",
    "SaveBytesTbFile(SumSatRound ,\"./SumSatRound.o\")"
   ]
  },
  {
   "cell_type": "markdown",
   "metadata": {},
   "source": [
    "Si se quiere seguir el  [ejemplo](https://github.com/matias-dogliani/diseno_digital/blob/master/Tp3/rlt_ejemplo/vectors/switch.out) del formato de testbench trabajo en anteriores trabajos prácicos se puede insertar el separador de tabulador entre cada bit. Aunque en este caso no se usa, se puede utilizar el mismo print() para hacerlo facilmente\n",
    "\n",
    "``` \n",
    "import os as sys \n",
    "def SaveBytesTbFile(FpValues,FileName):\n",
    "    sys.stdout  = open(FileName,'w')\n",
    "    for FpNum in FpValues:\n",
    "        TbBin =bin(FpNum.intvalue)[2:]      \n",
    "        TbBin = TbBin.zfill(FpNum.width)    \n",
    "        TbBin = str(TbBin)\n",
    "        \n",
    "    print(\"TbBin\",sep=\"\\t\")\n",
    "    sys.stdout.close()\n",
    "\n",
    "```"
   ]
  },
  {
   "cell_type": "code",
   "execution_count": 55,
   "metadata": {},
   "outputs": [],
   "source": [
    "def SaveBytesTbFile(FpValues,FileName):\n",
    "    TbFile  = open(FileName,'w')\n",
    "    for FpNum in FpValues:\n",
    "        TbBin =bin(FpNum.intvalue)[2:]      #\"0b\" no me interesa \n",
    "        TbBin = TbBin.zfill(FpNum.width)    #Aveces bin() devuelve menos bits\n",
    "        TbBin = str(TbBin)\n",
    "        print(TbBin, file=TbFile)\n",
    "    \n",
    "    TbFile.close()"
   ]
  },
  {
   "cell_type": "code",
   "execution_count": 56,
   "metadata": {},
   "outputs": [
    {
     "name": "stdout",
     "output_type": "stream",
     "text": [
      "TbBin\n"
     ]
    }
   ],
   "source": [
    "SaveBytesTbFile(A,\"./A2.in\")"
   ]
  }
 ],
 "metadata": {
  "kernelspec": {
   "display_name": "Python 3",
   "language": "python",
   "name": "python3"
  },
  "language_info": {
   "codemirror_mode": {
    "name": "ipython",
    "version": 3
   },
   "file_extension": ".py",
   "mimetype": "text/x-python",
   "name": "python",
   "nbconvert_exporter": "python",
   "pygments_lexer": "ipython3",
   "version": "3.8.10"
  }
 },
 "nbformat": 4,
 "nbformat_minor": 4
}
