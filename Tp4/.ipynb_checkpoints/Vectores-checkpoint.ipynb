{
 "cells": [
  {
   "cell_type": "markdown",
   "metadata": {},
   "source": [
    "# Vector Matching Test Bench \n",
    "\n",
    "Se crean archivos con números en Fixed Point aleatorios para y se opera con ellos, para obtener patrones de entradas aleatorias para el test bench de los módulos y patrones conocidos de salidas para realizar un vector matching "
   ]
  },
  {
   "cell_type": "code",
   "execution_count": 3,
   "metadata": {},
   "outputs": [],
   "source": [
    "from tool._fixedInt import *    # Modulo de punto fijo de Fulgor \n",
    "from tool.DSPtools import * \n",
    "import numpy as np"
   ]
  },
  {
   "cell_type": "markdown",
   "metadata": {},
   "source": [
    "## Vectores patrones\n",
    "* Definimos una función que se encargue de crear las entradas aleatorias de un formato determinado "
   ]
  },
  {
   "cell_type": "code",
   "execution_count": 6,
   "metadata": {},
   "outputs": [],
   "source": [
    "def randFixedPointArray(intWidth=4,fractWidth=2,\n",
    "                        signedMode = 'S',roundMode='trunc',\n",
    "                        saturateMode='saturate',N=1000):\n",
    "    \n",
    "    Fp = DeFixedInt(intWidth,fractWidth,signedMode,roundMode,saturateMode)\n",
    "\n",
    "    Rv = Fp.Range()\n",
    "    values = np.random.uniform(Rv[0],Rv[1],N) #Dentro del rango como para no sature y sea \n",
    "                                                #Varios numeros iguales (maximo o minimo), \n",
    "                          \n",
    "\n",
    "    return arrayFixedInt(intWidth, fractWidth, values, signedMode, \n",
    "                         roundMode, saturateMode)"
   ]
  },
  {
   "cell_type": "markdown",
   "metadata": {},
   "source": [
    "* Definimos los N valoers de entradas: \n",
    "     * A : S(16,14) \n",
    "     * B : S(12.11) \n"
   ]
  },
  {
   "cell_type": "code",
   "execution_count": 7,
   "metadata": {},
   "outputs": [],
   "source": [
    "A = randFixedPointArray(16,14,'S')\n",
    "B = randFixedPointArray(12,11,'S')"
   ]
  },
  {
   "cell_type": "markdown",
   "metadata": {},
   "source": [
    " ### Suma\n",
    " * Realizamos la sumas  **Full Resolution**"
   ]
  },
  {
   "cell_type": "code",
   "execution_count": 8,
   "metadata": {},
   "outputs": [],
   "source": [
    "SumaFullRes = A + B "
   ]
  },
  {
   "cell_type": "markdown",
   "metadata": {},
   "source": [
    " * Ahora operamos con este valor para obtener los diferentes formatos\n",
    "  \n",
    "     * S(11.10) con overflow y truncado\n",
    "     * S(11.10) con saturacion y truncado\n",
    "     * S(9.8) con saturación y redondeo\n",
    "     \n",
    " <span style=\"color:red\">**Nota**</span> : Se modificó la función *arrayFixedInt()* para que pueda tomar un valor de tipo *DeFixedInt* y reconvertirlo al formato especificado. \n",
    " \n",
    " De esta forma se puede **reconvertir arreglos** directamente.  \n",
    " Funciona para el caso de que se aplique truncado, o cualquier tipo de recorte. No se probó si se debe agregar bits, pero eso depende de la clase misma ya implementada.      "
   ]
  },
  {
   "cell_type": "code",
   "execution_count": 10,
   "metadata": {},
   "outputs": [],
   "source": [
    "SumOvTrunc = arrayFixedInt(11,10,SumaFullRes,'S','trunc','wrap')\n",
    "SumSatTrunc = arrayFixedInt(11,10,SumaFullRes,'S','trunc','saturate')\n",
    "SumSatRound = arrayFixedInt(9,8,SumaFullRes,'S','round','saturate')"
   ]
  },
  {
   "cell_type": "markdown",
   "metadata": {},
   "source": [
    "*  <span style=\"color:red\">**Comprabamos a grandes rasgos** </span> "
   ]
  },
  {
   "cell_type": "code",
   "execution_count": 11,
   "metadata": {},
   "outputs": [
    {
     "name": "stdout",
     "output_type": "stream",
     "text": [
      " Version 1 =  <669 (0.653) S(11,10)> \n",
      " Version 2 =  <669 (0.653) S(11,10)>\n",
      "\n",
      " Version 1 =  <-1024 (-1.000) S(11,10)> \n",
      " Version 2 =  <-1024 (-1.000) S(11,10)>\n",
      "\n",
      " Version 1 =  <-256 (-1.000) S(9,8)> \n",
      " Version 2 =  <-256 (-1.000) S(9,8)>\n"
     ]
    }
   ],
   "source": [
    "V1  = SumOvTrunc[4]  \n",
    "V2=DeFixedInt(11,10,'S','trunc','wrap')\n",
    "V2.assign(A[4] + B[4])\n",
    "\n",
    "print(\" Version 1 = \", V1,\n",
    "      \"\\n Version 2 = \", V2 )\n",
    "\n",
    "V1  = SumSatTrunc[4]  \n",
    "V2=DeFixedInt(11,10,'S','trunc','saturate')\n",
    "V2.assign(A[4] + B[4])\n",
    "\n",
    "print(\"\\n Version 1 = \", V1,\n",
    "      \"\\n Version 2 = \", V2 )\n",
    "\n",
    "\n",
    "V1  = SumSatRound[4]  \n",
    "V2=DeFixedInt(9,8,'S','round','saturate')\n",
    "V2.assign(A[4] + B[4])\n",
    "\n",
    "print(\"\\n Version 1 = \", V1,\n",
    "      \"\\n Version 2 = \", V2 )\n",
    "\n"
   ]
  },
  {
   "cell_type": "markdown",
   "metadata": {},
   "source": [
    "* Ahora, guardamos estos vectores de entrada A y B, y de salida Sum*Format* en archivos separados para poder trabajarlos en el testbench. \n",
    "\n"
   ]
  },
  {
   "cell_type": "code",
   "execution_count": 12,
   "metadata": {},
   "outputs": [],
   "source": [
    "def SaveBytesTbFile(FpValues,FileName):\n",
    "    TbFile  = open(FileName,'w')\n",
    "    for FpNum in FpValues:\n",
    "    \n",
    "        TbBin =bin(FpNum.intvalue)[2:]      #\"0b\" no me interesa \n",
    "        TbBin = TbBin.zfill(FpNum.width)    #Aveces bin() devuelve menos bits\n",
    "        TbBin = str(TbBin)\n",
    "        TbFile.write(TbBin)\n",
    "        TbFile.write(\"\\n\")\n",
    "    TbFile.close()"
   ]
  },
  {
   "cell_type": "code",
   "execution_count": 13,
   "metadata": {},
   "outputs": [],
   "source": [
    "SaveBytesTbFile(A,\"./A.in\")\n",
    "SaveBytesTbFile(B,\"./B.in\")\n",
    "SaveBytesTbFile(SumaFullRes,\"./PatternVec/SumFullRes.o\")\n",
    "SaveBytesTbFile(SumOvTrunc,\"./PatternVec/SumOvTrunc.o\")\n",
    "SaveBytesTbFile(SumSatTrunc,\"./PatternVec/SumSatTrunc.o\")\n",
    "SaveBytesTbFile(SumSatRound ,\"./PatternVec/SumSatRound.o\")"
   ]
  },
  {
   "cell_type": "markdown",
   "metadata": {},
   "source": [
    "Si se quiere seguir el  [ejemplo](https://github.com/matias-dogliani/diseno_digital/blob/master/Tp3/rlt_ejemplo/vectors/switch.out) del formato de testbench de trabajo en anteriores trabajos prácicos se puede insertar el separador de tabulador entre cada bit. Aunque en este caso no se usa, se puede utilizar el mismo print() para hacerlo facilmente\n",
    "\n",
    "### Multiplicación\n"
   ]
  },
  {
   "cell_type": "markdown",
   "metadata": {},
   "source": [
    "## Comparación \n",
    "\n",
    "* Comparamos, ahora, los archivos generados en python, con los registros generados en verilog. Podemos hacerlo simplemente comparando las lineas de ambos archivos, o generado un archivo de registro en caso de que exista un error. \n",
    "\n",
    "```\n",
    "TbBin = open(\"./TbVec/SumFullResV.out\",'r').readlines()\n",
    "PyBin = open(\"./PatternVec/SumFullRes.o\",'r').readlines()\n",
    "for i,resultado in enumerate(PyBin): \n",
    "\n",
    "    if(resultado != TbBin[i]):\n",
    "        print(\"Diferentes : Py =\",resultado,\n",
    "             \"Verilog =  \",TbBin[i])\n",
    "```\n",
    "\n",
    "* Se crean funciones de comparación y de creación del archivo log "
   ]
  },
  {
   "cell_type": "code",
   "execution_count": 2,
   "metadata": {},
   "outputs": [],
   "source": [
    "def CompareTbBin(BinPyFileName, TbBinFileName): \n",
    "   \n",
    "    error = 0\n",
    "    PatternValue = []\n",
    "    CorruptedValue = [] \n",
    "    \n",
    "    TbBin = open(TbBinFileName,'r').readlines()\n",
    "    PyBin = open(BinPyFileName,'r').readlines()\n",
    "    \n",
    "    for i,res in enumerate(PyBin): \n",
    "        if(res != TbBin[i]):\n",
    "            error +=1 \n",
    "            PatternValue.append(res[:-1]) #Saco el \\n\n",
    "            CorruptedValue.append(TbBin[i])\n",
    "\n",
    "    errorRate = error/i if error else 0\n",
    "    \n",
    "    return errorRate,error,PatternValue,CorruptedValue \n"
   ]
  },
  {
   "cell_type": "code",
   "execution_count": 1,
   "metadata": {},
   "outputs": [],
   "source": [
    "def LogFileGen (error,errorRate,PatternValue,CorruptedValue,FileName): \n",
    "    if (er): \n",
    "        logFile= open(FileName,'w')\n",
    "        print(error,errorRate,sep=\" \",file=logFile)\n",
    "        print(\"Python\", \"TestBench\",sep = \",\",file=logFile)\n",
    "        for i,Value in enumerate(PatternValue):\n",
    "            print(i,Value, CorruptedValue[i], sep=\",\",file=logFile)  \n",
    "        logFile.close()"
   ]
  },
  {
   "cell_type": "markdown",
   "metadata": {},
   "source": [
    "### Suma\n",
    "* Comparamos los resultados de suma **Full Resolution**"
   ]
  },
  {
   "cell_type": "code",
   "execution_count": 14,
   "metadata": {},
   "outputs": [
    {
     "name": "stdout",
     "output_type": "stream",
     "text": [
      "Error en Full Resolution:  0\n"
     ]
    }
   ],
   "source": [
    "[er,erR,PValue,CValue] = CompareTbBin(\"./TbVec/SumFullResV.out\",\n",
    "                                      \"./PatternVec/SumFullRes.o\") \n",
    "print(\"Error en Full Resolution: \", er)\n",
    "if (er): \n",
    "    LogFileGen(er,erR,PValue,CValue,\"./logs/FullRes.log\")"
   ]
  },
  {
   "cell_type": "markdown",
   "metadata": {},
   "source": [
    "* Comparamos los resultados de suma **S(11,10) truncado y overflow**"
   ]
  },
  {
   "cell_type": "code",
   "execution_count": 15,
   "metadata": {},
   "outputs": [
    {
     "name": "stdout",
     "output_type": "stream",
     "text": [
      "Error en Overflow y Truncado:  0\n"
     ]
    }
   ],
   "source": [
    "[er,erR,PValue,CValue] = CompareTbBin(\"./TbVec/SumOvTruncV.out\",\n",
    "                                      \"./PatternVec/SumOvTrunc.o\")\n",
    "print(\"Error en Overflow y Truncado: \", er)\n",
    "if (er): \n",
    "    LogFileGen(er,erR,PValue,CValue,\"./logs/SumOvTrunc.log\")"
   ]
  },
  {
   "cell_type": "markdown",
   "metadata": {},
   "source": [
    "* Comparamos los resultados de suma **S(11,10) truncado y saturación**"
   ]
  },
  {
   "cell_type": "code",
   "execution_count": 16,
   "metadata": {},
   "outputs": [
    {
     "name": "stdout",
     "output_type": "stream",
     "text": [
      "Error en Saturación y Truncado:  0\n"
     ]
    }
   ],
   "source": [
    "[er,erR,PValue,CValue] = CompareTbBin(\"./TbVec/SumSatTruncV.out\",\n",
    "                                      \"./PatternVec/SumSatTrunc.o\") \n",
    "print(\"Error en Saturación y Truncado: \", er)\n",
    "if (er): \n",
    "    LogFileGen(er,erR,PValue,CValue,\"./logs/SumSatTrunc.log\")"
   ]
  },
  {
   "cell_type": "markdown",
   "metadata": {},
   "source": [
    "* Comparamos los resultados de suma **S(11,10) redondeo y saturación**"
   ]
  },
  {
   "cell_type": "code",
   "execution_count": 17,
   "metadata": {},
   "outputs": [
    {
     "name": "stdout",
     "output_type": "stream",
     "text": [
      "Error en Saturación y Redondeo:  0.19119119119119118\n"
     ]
    }
   ],
   "source": [
    "[er,erR,PValue,CValue] = CompareTbBin(\"./TbVec/SumSatRoundV.out\",\n",
    "                                      \"./PatternVec/SumSatRound.o\")\n",
    "print(\"Error en Saturación y Redondeo: \", er)\n",
    "if (er): \n",
    "    LogFileGen(er,erR,PValue,CValue,\"./logs/SumSatRound.log\")"
   ]
  },
  {
   "cell_type": "markdown",
   "metadata": {},
   "source": [
    "### Multiplicación\n",
    "\n",
    "* Creamos los arreglos con los vectores patrones"
   ]
  },
  {
   "cell_type": "code",
   "execution_count": 97,
   "metadata": {},
   "outputs": [],
   "source": [
    "A = randFixedPointArray(8,6,'S')\n",
    "B = randFixedPointArray(12,11,'S')\n",
    "SaveBytesTbFile(A,\"./A.in\")\n",
    "SaveBytesTbFile(B,\"./B.in\")"
   ]
  },
  {
   "cell_type": "code",
   "execution_count": 98,
   "metadata": {},
   "outputs": [],
   "source": [
    "MulFullRes = A*B \n",
    "MulOvTrunc = arrayFixedInt(12,11,MulFullRes,'S','trunc','wrap')\n",
    "MulSatTrunc = arrayFixedInt(12,11,MulFullRes,'S','trunc','saturate')\n",
    "MulSatRound = arrayFixedInt(10,9,MulFullRes,'S','round','saturate')"
   ]
  },
  {
   "cell_type": "markdown",
   "metadata": {},
   "source": [
    " * Guardamos en un archivo estos vectores calculados"
   ]
  },
  {
   "cell_type": "code",
   "execution_count": 99,
   "metadata": {},
   "outputs": [],
   "source": [
    "SaveBytesTbFile(MulFullRes,\"./PatternVec/MulFullRes.o\")\n",
    "SaveBytesTbFile(MulOvTrunc,\"./PatternVec/MulOvTrunc.o\")\n",
    "SaveBytesTbFile(MulSatTrunc,\"./PatternVec/MulSatTrunc.o\")\n",
    "SaveBytesTbFile(MulSatRound ,\"./PatternVec/MulSatRound.o\")"
   ]
  },
  {
   "cell_type": "code",
   "execution_count": 105,
   "metadata": {},
   "outputs": [
    {
     "name": "stdout",
     "output_type": "stream",
     "text": [
      "0b10001100 0b1011011001\n",
      "<-84564 (-0.645) S(20,17)>\n",
      "0b11101011010110101100\n",
      "<-1322 (-0.646) S(12,11)>\n",
      "0b101011010110\n",
      "<-1322 (-0.646) S(12,11)>\n",
      "0b101011010110\n",
      "<-330 (-0.645) S(10,9)>\n",
      "0b1010110110\n"
     ]
    }
   ],
   "source": [
    "print(bin(A[0].intvalue), bin(B[0].intvalue))\n",
    "print(MulFullRes[0])\n",
    "print(bin(MulFullRes[0].intvalue))\n",
    "print(MulOvTrunc[0])\n",
    "print(bin(MulOvTrunc[0].intvalue))\n",
    "print(MulSatTrunc[0])\n",
    "print(bin(MulSatTrunc[0].intvalue))\n",
    "print(MulSatRound[0])\n",
    "print(bin(MulSatRound[0].intvalue))"
   ]
  },
  {
   "cell_type": "markdown",
   "metadata": {},
   "source": [
    "* Comparamos vectores "
   ]
  },
  {
   "cell_type": "code",
   "execution_count": 5,
   "metadata": {},
   "outputs": [
    {
     "name": "stdout",
     "output_type": "stream",
     "text": [
      "Error en Full Resolution:  0\n",
      "Error en Overflow y Truncado:  0\n",
      "Error en Saturación y Truncado:  0\n",
      "Error en Saturación y Redondeo:  0.3233233233233233\n"
     ]
    }
   ],
   "source": [
    "[er,erR,PValue,CValue] = CompareTbBin(\"./TbVec/MulFullResV.out\",\n",
    "                                      \"./PatternVec/MulFullRes.o\") \n",
    "print(\"Error en Full Resolution: \", er)\n",
    "if (er): \n",
    "    LogFileGen(er,erR,PValue,CValue,\"./logs/FullRes.log\")\n",
    "  \n",
    "    \n",
    "[er,erR,PValue,CValue] = CompareTbBin(\"./TbVec/MulOvTruncV.out\",\n",
    "                                      \"./PatternVec/MulOvTrunc.o\") \n",
    "print(\"Error en Overflow y Truncado: \", er)\n",
    "if (er): \n",
    "    LogFileGen(er,erR,PValue,CValue,\"./logs/MulOvTrunc.log\")\n",
    "    \n",
    "\n",
    "[er,erR,PValue,CValue] = CompareTbBin(\"./TbVec/MulSatTruncV.out\",\n",
    "                                      \"./PatternVec/MulSatTrunc.o\")\n",
    "print(\"Error en Saturación y Truncado: \", er)\n",
    "if (er): \n",
    "    LogFileGen(er,erR,PValue,CValue,\"./logs/MulSatTrunc.log\")\n",
    "\n",
    "\n",
    "[er,erR,PValue,CValue] = CompareTbBin(\"./TbVec/MulSatRoundV.out\",\n",
    "                                      \"./PatternVec/MulSatRound.o\")\n",
    "print(\"Error en Saturación y Redondeo: \", er)\n",
    "if (er): \n",
    "    LogFileGen(er,erR,PValue,CValue,\"./logs/MulSatRound.log\")"
   ]
  }
 ],
 "metadata": {
  "kernelspec": {
   "display_name": "Python 3",
   "language": "python",
   "name": "python3"
  },
  "language_info": {
   "codemirror_mode": {
    "name": "ipython",
    "version": 3
   },
   "file_extension": ".py",
   "mimetype": "text/x-python",
   "name": "python",
   "nbconvert_exporter": "python",
   "pygments_lexer": "ipython3",
   "version": "3.8.10"
  }
 },
 "nbformat": 4,
 "nbformat_minor": 4
}
